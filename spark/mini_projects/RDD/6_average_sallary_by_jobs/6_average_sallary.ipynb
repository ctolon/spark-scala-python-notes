{
 "cells": [
  {
   "cell_type": "markdown",
   "id": "98ed7742",
   "metadata": {},
   "source": [
    "### Mesleğe Göre Maaş bulma"
   ]
  },
  {
   "cell_type": "code",
   "execution_count": 1,
   "id": "39d8b462",
   "metadata": {},
   "outputs": [],
   "source": [
    "from pyspark.sql import SparkSession\n",
    "from pyspark.conf import SparkConf\n",
    "from pyspark import SparkContext\n",
    "import os"
   ]
  },
  {
   "cell_type": "code",
   "execution_count": 2,
   "id": "cc46b4cc",
   "metadata": {},
   "outputs": [
    {
     "name": "stdout",
     "output_type": "stream",
     "text": [
      "23/04/15 13:44:18 WARN SparkSession: Using an existing Spark session; only runtime SQL configurations will take effect.\n"
     ]
    }
   ],
   "source": [
    "spark = SparkSession.builder \\\n",
    ".master(\"local[*]\") \\\n",
    ".config(\"spark.executor.memory\", \"2g\") \\\n",
    ".config(\"spark.driver.memory\", \"2g\") \\\n",
    ".appName(\"averageSallary\") \\\n",
    ".getOrCreate()"
   ]
  },
  {
   "cell_type": "code",
   "execution_count": 4,
   "id": "b09b273f",
   "metadata": {},
   "outputs": [],
   "source": [
    "sc = spark.sparkContext\n",
    "sc.setLogLevel(\"ERROR\")"
   ]
  },
  {
   "cell_type": "code",
   "execution_count": 5,
   "id": "2096322d",
   "metadata": {},
   "outputs": [
    {
     "name": "stderr",
     "output_type": "stream",
     "text": [
      "\r",
      "[Stage 0:>                                                          (0 + 1) / 1]\r",
      "\r",
      "                                                                                \r"
     ]
    },
    {
     "data": {
      "text/plain": [
       "['sirano,isim,yas,meslek,sehir,aylik_gelir',\n",
       " '1,Cemal,35,Isci,Ankara,3500',\n",
       " '2,Ceyda,42,Memur,Kayseri,4200',\n",
       " '3,Timur,30,Müzisyen,Istanbul,9000',\n",
       " '4,Burcu,29,Pazarlamaci,Ankara,4200']"
      ]
     },
     "execution_count": 5,
     "metadata": {},
     "output_type": "execute_result"
    }
   ],
   "source": [
    "file = f\"{os.getcwd()}/simple_data.csv\"\n",
    "raw_dataRDD = sc.textFile(file)\n",
    "raw_dataRDD.take(5)"
   ]
  },
  {
   "cell_type": "code",
   "execution_count": 8,
   "id": "a8b38a12",
   "metadata": {},
   "outputs": [
    {
     "data": {
      "text/plain": [
       "['1,Cemal,35,Isci,Ankara,3500',\n",
       " '2,Ceyda,42,Memur,Kayseri,4200',\n",
       " '3,Timur,30,Müzisyen,Istanbul,9000',\n",
       " '4,Burcu,29,Pazarlamaci,Ankara,4200',\n",
       " '5,Yasemin,23,Pazarlamaci,Bursa,4800',\n",
       " '6,Ali,33,Memur,Ankara,4250',\n",
       " '7,Dilek,29,Pazarlamaci,Istanbul,7300',\n",
       " '8,Murat,31,Müzisyen,Istanbul,12000',\n",
       " '9,Ahmet,33,Doktor,Ankara,18000',\n",
       " '10,Muhittin,46,Berber,Istanbul,12000']"
      ]
     },
     "execution_count": 8,
     "metadata": {},
     "output_type": "execute_result"
    }
   ],
   "source": [
    "raw_dataRDD_without_header = raw_dataRDD.filter(lambda x: \"sirano\" not in x)\n",
    "raw_dataRDD_without_header.take(10)"
   ]
  },
  {
   "cell_type": "code",
   "execution_count": 16,
   "id": "2136ef92",
   "metadata": {},
   "outputs": [],
   "source": [
    "def job_salary(line: str):\n",
    "    job = line.split(\",\")[3]\n",
    "    salary = float(line.split(\",\")[5])\n",
    "    \n",
    "    return (job, salary)"
   ]
  },
  {
   "cell_type": "code",
   "execution_count": 17,
   "id": "655d19c6",
   "metadata": {},
   "outputs": [
    {
     "data": {
      "text/plain": [
       "[('Isci', 3500.0),\n",
       " ('Memur', 4200.0),\n",
       " ('Müzisyen', 9000.0),\n",
       " ('Pazarlamaci', 4200.0),\n",
       " ('Pazarlamaci', 4800.0)]"
      ]
     },
     "execution_count": 17,
     "metadata": {},
     "output_type": "execute_result"
    }
   ],
   "source": [
    "job_salaryRDD = raw_dataRDD_without_header.map(job_salary)\n",
    "job_salaryRDD.take(5)"
   ]
  },
  {
   "cell_type": "code",
   "execution_count": 20,
   "id": "2d1e6776",
   "metadata": {},
   "outputs": [],
   "source": [
    "job_salaryRDD2 = job_salaryRDD.mapValues(lambda v: (v,1))"
   ]
  },
  {
   "cell_type": "code",
   "execution_count": 21,
   "id": "40cc1182",
   "metadata": {},
   "outputs": [
    {
     "data": {
      "text/plain": [
       "[('Isci', (3500.0, 1)),\n",
       " ('Memur', (4200.0, 1)),\n",
       " ('Müzisyen', (9000.0, 1)),\n",
       " ('Pazarlamaci', (4200.0, 1)),\n",
       " ('Pazarlamaci', (4800.0, 1))]"
      ]
     },
     "execution_count": 21,
     "metadata": {},
     "output_type": "execute_result"
    }
   ],
   "source": [
    "job_salaryRDD2.take(5)"
   ]
  },
  {
   "cell_type": "code",
   "execution_count": 24,
   "id": "6c657618",
   "metadata": {},
   "outputs": [],
   "source": [
    "job_salaryRDD3 = job_salaryRDD2.reduceByKey(lambda x,y: (x[0] + y[0], x[1] + y[1]))"
   ]
  },
  {
   "cell_type": "code",
   "execution_count": 25,
   "id": "677df42c",
   "metadata": {},
   "outputs": [
    {
     "data": {
      "text/plain": [
       "[('Memur', (12200.0, 3)),\n",
       " ('Pazarlamaci', (16300.0, 3)),\n",
       " ('Tuhafiyeci', (4800.0, 1)),\n",
       " ('Tornacı', (4200.0, 1)),\n",
       " ('Isci', (3500.0, 1))]"
      ]
     },
     "execution_count": 25,
     "metadata": {},
     "output_type": "execute_result"
    }
   ],
   "source": [
    "job_salaryRDD3.take(5)"
   ]
  },
  {
   "cell_type": "code",
   "execution_count": 26,
   "id": "0d9a6ce9",
   "metadata": {},
   "outputs": [],
   "source": [
    "job_salaryRDD4 = job_salaryRDD3.mapValues(lambda value: (value[0] / value[1]))"
   ]
  },
  {
   "cell_type": "code",
   "execution_count": 28,
   "id": "d6eb5b3f",
   "metadata": {},
   "outputs": [
    {
     "data": {
      "text/plain": [
       "[('Memur', 4066.6666666666665),\n",
       " ('Pazarlamaci', 5433.333333333333),\n",
       " ('Tuhafiyeci', 4800.0),\n",
       " ('Tornacı', 4200.0),\n",
       " ('Isci', 3500.0),\n",
       " ('Müzisyen', 9900.0),\n",
       " ('Doktor', 16125.0),\n",
       " ('Berber', 12000.0)]"
      ]
     },
     "execution_count": 28,
     "metadata": {},
     "output_type": "execute_result"
    }
   ],
   "source": [
    "job_salaryRDD4.collect()"
   ]
  },
  {
   "cell_type": "code",
   "execution_count": null,
   "id": "4033f644",
   "metadata": {},
   "outputs": [],
   "source": []
  }
 ],
 "metadata": {
  "kernelspec": {
   "display_name": "Python 3 (ipykernel)",
   "language": "python",
   "name": "python3"
  },
  "language_info": {
   "codemirror_mode": {
    "name": "ipython",
    "version": 3
   },
   "file_extension": ".py",
   "mimetype": "text/x-python",
   "name": "python",
   "nbconvert_exporter": "python",
   "pygments_lexer": "ipython3",
   "version": "3.10.6"
  }
 },
 "nbformat": 4,
 "nbformat_minor": 5
}
