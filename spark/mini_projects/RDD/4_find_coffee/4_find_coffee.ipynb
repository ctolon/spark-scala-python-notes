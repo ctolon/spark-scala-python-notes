{
 "cells": [
  {
   "cell_type": "markdown",
   "id": "09fb529e",
   "metadata": {},
   "source": [
    "# Bir CSV dosyasından içerisinde kahve geçen kelimeleri (ürünleri) bulma"
   ]
  },
  {
   "cell_type": "code",
   "execution_count": null,
   "id": "e70919bd",
   "metadata": {},
   "outputs": [],
   "source": [
    "from pyspark.sql import SparkSession\n",
    "from pyspark.conf import SparkConf\n",
    "from pyspark import SparkContext\n",
    "import os"
   ]
  },
  {
   "cell_type": "code",
   "execution_count": 2,
   "id": "cee5caef",
   "metadata": {},
   "outputs": [
    {
     "name": "stdout",
     "output_type": "stream",
     "text": [
      "23/04/14 19:37:36 WARN SparkSession: Using an existing Spark session; only runtime SQL configurations will take effect.\n"
     ]
    }
   ],
   "source": [
    "pyspark = SparkSession.builder \\\n",
    ".master(\"local[4]\") \\\n",
    ".appName(\"Create a RDD\") \\\n",
    ".config(\"spark.executor.memory\", \"4g\") \\\n",
    ".config(\"spark.driver.memory\", \"2g\") \\\n",
    ".getOrCreate()"
   ]
  },
  {
   "cell_type": "code",
   "execution_count": 3,
   "id": "eb16e1b5",
   "metadata": {},
   "outputs": [],
   "source": [
    "sc = pyspark.sparkContext\n",
    "sc.setLogLevel(\"error\")"
   ]
  },
  {
   "cell_type": "code",
   "execution_count": 10,
   "id": "2fe65363",
   "metadata": {},
   "outputs": [],
   "source": [
    "file = f\"{os.getcwd()}/OnlineRetail.csv\""
   ]
  },
  {
   "cell_type": "code",
   "execution_count": 33,
   "id": "89c02347",
   "metadata": {},
   "outputs": [],
   "source": [
    "retailRDD = sc.textFile(file)"
   ]
  },
  {
   "cell_type": "code",
   "execution_count": 34,
   "id": "c5862ad6",
   "metadata": {},
   "outputs": [
    {
     "data": {
      "text/plain": [
       "['InvoiceNo;StockCode;Description;Quantity;InvoiceDate;UnitPrice;CustomerID;Country',\n",
       " '536365;85123A;WHITE HANGING HEART T-LIGHT HOLDER;6;1.12.2010 08:26;2,55;17850;United Kingdom',\n",
       " '536365;71053;WHITE METAL LANTERN;6;1.12.2010 08:26;3,39;17850;United Kingdom',\n",
       " '536365;84406B;CREAM CUPID HEARTS COAT HANGER;8;1.12.2010 08:26;2,75;17850;United Kingdom',\n",
       " '536365;84029G;KNITTED UNION FLAG HOT WATER BOTTLE;6;1.12.2010 08:26;3,39;17850;United Kingdom']"
      ]
     },
     "execution_count": 34,
     "metadata": {},
     "output_type": "execute_result"
    }
   ],
   "source": [
    "retailRDD.take(5)"
   ]
  },
  {
   "cell_type": "markdown",
   "id": "22415c70",
   "metadata": {},
   "source": [
    "### Header'ı Silme"
   ]
  },
  {
   "cell_type": "code",
   "execution_count": 1,
   "id": "6da9b4f7",
   "metadata": {},
   "outputs": [
    {
     "ename": "NameError",
     "evalue": "name 'retailRDD' is not defined",
     "output_type": "error",
     "traceback": [
      "\u001b[0;31m---------------------------------------------------------------------------\u001b[0m",
      "\u001b[0;31mNameError\u001b[0m                                 Traceback (most recent call last)",
      "\u001b[0;32m/tmp/ipykernel_559536/2869201020.py\u001b[0m in \u001b[0;36m<module>\u001b[0;34m\u001b[0m\n\u001b[0;32m----> 1\u001b[0;31m \u001b[0mfirstline\u001b[0m \u001b[0;34m=\u001b[0m \u001b[0mretailRDD\u001b[0m\u001b[0;34m.\u001b[0m\u001b[0mfirst\u001b[0m\u001b[0;34m(\u001b[0m\u001b[0;34m)\u001b[0m\u001b[0;34m\u001b[0m\u001b[0;34m\u001b[0m\u001b[0m\n\u001b[0m\u001b[1;32m      2\u001b[0m \u001b[0mfirstlineRDD\u001b[0m \u001b[0;34m=\u001b[0m \u001b[0msc\u001b[0m\u001b[0;34m.\u001b[0m\u001b[0mparallelize\u001b[0m\u001b[0;34m(\u001b[0m\u001b[0mfirstline\u001b[0m\u001b[0;34m)\u001b[0m\u001b[0;34m\u001b[0m\u001b[0;34m\u001b[0m\u001b[0m\n\u001b[1;32m      3\u001b[0m \u001b[0mretailRDD_without_header\u001b[0m \u001b[0;34m=\u001b[0m \u001b[0mretailRDD\u001b[0m\u001b[0;34m.\u001b[0m\u001b[0msubtract\u001b[0m\u001b[0;34m(\u001b[0m\u001b[0mfirstlineRDD\u001b[0m\u001b[0;34m)\u001b[0m\u001b[0;34m\u001b[0m\u001b[0;34m\u001b[0m\u001b[0m\n\u001b[1;32m      4\u001b[0m \u001b[0mretailRDD_without_header\u001b[0m\u001b[0;34m.\u001b[0m\u001b[0mtake\u001b[0m\u001b[0;34m(\u001b[0m\u001b[0;36m5\u001b[0m\u001b[0;34m)\u001b[0m\u001b[0;34m\u001b[0m\u001b[0;34m\u001b[0m\u001b[0m\n",
      "\u001b[0;31mNameError\u001b[0m: name 'retailRDD' is not defined"
     ]
    }
   ],
   "source": [
    "firstline = retailRDD.first()\n",
    "firstlineRDD = sc.parallelize(firstline)\n",
    "retailRDD_without_header = retailRDD.subtract(firstlineRDD)\n",
    "retailRDD_without_header.take(5)"
   ]
  },
  {
   "cell_type": "markdown",
   "id": "bd175983",
   "metadata": {},
   "source": [
    "### Birim miktarı 30'dan büyük olanları filtreleme"
   ]
  },
  {
   "cell_type": "code",
   "execution_count": 2,
   "id": "f59faf85",
   "metadata": {},
   "outputs": [
    {
     "ename": "NameError",
     "evalue": "name 'retailRDD_without_header' is not defined",
     "output_type": "error",
     "traceback": [
      "\u001b[0;31m---------------------------------------------------------------------------\u001b[0m",
      "\u001b[0;31mNameError\u001b[0m                                 Traceback (most recent call last)",
      "\u001b[0;32m/tmp/ipykernel_559536/737415072.py\u001b[0m in \u001b[0;36m<module>\u001b[0;34m\u001b[0m\n\u001b[0;32m----> 1\u001b[0;31m \u001b[0mfilteredRDD\u001b[0m \u001b[0;34m=\u001b[0m \u001b[0mretailRDD_without_header\u001b[0m\u001b[0;34m.\u001b[0m\u001b[0mfilter\u001b[0m\u001b[0;34m(\u001b[0m\u001b[0;32mlambda\u001b[0m \u001b[0mx\u001b[0m\u001b[0;34m:\u001b[0m \u001b[0mint\u001b[0m\u001b[0;34m(\u001b[0m\u001b[0mx\u001b[0m\u001b[0;34m.\u001b[0m\u001b[0msplit\u001b[0m\u001b[0;34m(\u001b[0m\u001b[0;34m\";\"\u001b[0m\u001b[0;34m)\u001b[0m\u001b[0;34m[\u001b[0m\u001b[0;36m3\u001b[0m\u001b[0;34m]\u001b[0m\u001b[0;34m)\u001b[0m \u001b[0;34m>\u001b[0m \u001b[0;36m30\u001b[0m\u001b[0;34m)\u001b[0m\u001b[0;34m\u001b[0m\u001b[0;34m\u001b[0m\u001b[0m\n\u001b[0m\u001b[1;32m      2\u001b[0m \u001b[0mfilteredRDD\u001b[0m\u001b[0;34m.\u001b[0m\u001b[0mtake\u001b[0m\u001b[0;34m(\u001b[0m\u001b[0;36m5\u001b[0m\u001b[0;34m)\u001b[0m\u001b[0;34m\u001b[0m\u001b[0;34m\u001b[0m\u001b[0m\n",
      "\u001b[0;31mNameError\u001b[0m: name 'retailRDD_without_header' is not defined"
     ]
    }
   ],
   "source": [
    "filteredRDD = retailRDD_without_header.filter(lambda x: int(x.split(\";\")[3]) > 30)\n",
    "filteredRDD.take(5)"
   ]
  },
  {
   "cell_type": "markdown",
   "id": "03fa75c0",
   "metadata": {},
   "source": [
    "### Ürün adında coffee geçenleri filtreleme"
   ]
  },
  {
   "cell_type": "code",
   "execution_count": 41,
   "id": "e220d905",
   "metadata": {},
   "outputs": [
    {
     "data": {
      "text/plain": [
       "['536787;37370;RETRO COFFEE MUGS ASSORTED;6;2.12.2010 15:24;1,06;17850;United Kingdom',\n",
       " '536805;37370;RETRO COFFEE MUGS ASSORTED;12;2.12.2010 16:38;1,25;14775;United Kingdom',\n",
       " '536865;37370;RETRO COFFEE MUGS ASSORTED;1;3.12.2010 11:28;16,13;000000;United Kingdom',\n",
       " '537231;22304;COFFEE MUG BLUE PAISLEY DESIGN;6;6.12.2010 09:21;2,55;13652;United Kingdom',\n",
       " '538035;37370;RETRO COFFEE MUGS ASSORTED;3;9.12.2010 13:03;1,25;16065;United Kingdom']"
      ]
     },
     "execution_count": 41,
     "metadata": {},
     "output_type": "execute_result"
    }
   ],
   "source": [
    "coffeeRDD = retailRDD_without_header.filter(lambda x: 'COFFEE' in x.split(\";\")[2])\n",
    "coffeeRDD.take(5)"
   ]
  },
  {
   "cell_type": "markdown",
   "id": "46c76c92",
   "metadata": {},
   "source": [
    "### Unit > 30 and contains COFFEE"
   ]
  },
  {
   "cell_type": "code",
   "execution_count": 49,
   "id": "64deaa24",
   "metadata": {},
   "outputs": [],
   "source": [
    "def pair_filter(line: str):\n",
    "    quantity = int(line.split(\";\")[3])\n",
    "    desc = line.split(\";\")[2]\n",
    "    \n",
    "    return (quantity > 30) & (\"COFFEE\" in desc)"
   ]
  },
  {
   "cell_type": "code",
   "execution_count": 50,
   "id": "6dee9316",
   "metadata": {},
   "outputs": [
    {
     "data": {
      "text/plain": [
       "['543054;22300;COFFEE MUG DOG + BALL DESIGN;36;3.02.2011 10:39;2,1;13394;United Kingdom',\n",
       " '544480;22303;COFFEE MUG APPLES DESIGN;72;21.02.2011 10:32;2,1;14646;Netherlands',\n",
       " '544690;22303;COFFEE MUG APPLES DESIGN;36;23.02.2011 08:48;2,1;14156;EIRE',\n",
       " '545533;22303;COFFEE MUG APPLES DESIGN;36;3.03.2011 14:04;2,1;12524;Germany',\n",
       " '545668;37370;RETRO COFFEE MUGS ASSORTED;144;4.03.2011 17:02;1,06;14031;United Kingdom',\n",
       " '550137;21216;SET 3 RETROSPOT TEA,COFFEE,SUGAR;72;14.04.2011 13:59;4,25;12477;Germany',\n",
       " '551840;22300;COFFEE MUG DOG + BALL DESIGN;36;4.05.2011 13:36;2,1;15144;United Kingdom',\n",
       " '552692;21399;BLUE POLKADOT COFFEE MUG;48;10.05.2011 15:19;0,39;13990;United Kingdom',\n",
       " '553546;37370;RETRO COFFEE MUGS ASSORTED;108;17.05.2011 15:42;1,25;12415;Australia',\n",
       " '553867;22970;LONDON BUS COFFEE MUG;36;19.05.2011 14:19;2,1;17306;United Kingdom']"
      ]
     },
     "execution_count": 50,
     "metadata": {},
     "output_type": "execute_result"
    }
   ],
   "source": [
    "retailRDD_without_header.filter(lambda x: pair_filter(x)).take(10)"
   ]
  }
 ],
 "metadata": {
  "kernelspec": {
   "display_name": "Python 3 (ipykernel)",
   "language": "python",
   "name": "python3"
  },
  "language_info": {
   "codemirror_mode": {
    "name": "ipython",
    "version": 3
   },
   "file_extension": ".py",
   "mimetype": "text/x-python",
   "name": "python",
   "nbconvert_exporter": "python",
   "pygments_lexer": "ipython3",
   "version": "3.10.6"
  }
 },
 "nbformat": 4,
 "nbformat_minor": 5
}
