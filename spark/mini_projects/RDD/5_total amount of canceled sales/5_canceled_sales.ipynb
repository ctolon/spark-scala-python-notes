{
 "cells": [
  {
   "cell_type": "markdown",
   "id": "6b144bb7",
   "metadata": {},
   "source": [
    "# Bir CSV dosyasından içerisinden İptal Edilen Toplam Satış Miktarını Bulma"
   ]
  },
  {
   "cell_type": "code",
   "execution_count": 1,
   "id": "184951c7",
   "metadata": {},
   "outputs": [],
   "source": [
    "from pyspark.sql import SparkSession\n",
    "from pyspark.conf import SparkConf\n",
    "from pyspark import SparkContext\n",
    "import os"
   ]
  },
  {
   "cell_type": "code",
   "execution_count": 2,
   "id": "1fe64d6b",
   "metadata": {},
   "outputs": [
    {
     "name": "stdout",
     "output_type": "stream",
     "text": [
      "23/04/14 20:04:27 WARN SparkSession: Using an existing Spark session; only runtime SQL configurations will take effect.\n"
     ]
    }
   ],
   "source": [
    "pyspark = SparkSession.builder \\\n",
    ".master(\"local[4]\") \\\n",
    ".appName(\"Create a RDD\") \\\n",
    ".config(\"spark.executor.memory\", \"4g\") \\\n",
    ".config(\"spark.driver.memory\", \"2g\") \\\n",
    ".getOrCreate()"
   ]
  },
  {
   "cell_type": "code",
   "execution_count": 8,
   "id": "87c5f2bf",
   "metadata": {},
   "outputs": [],
   "source": [
    "sc = pyspark.sparkContext\n",
    "sc.setLogLevel(\"error\")"
   ]
  },
  {
   "cell_type": "code",
   "execution_count": 9,
   "id": "2bdfd2f3",
   "metadata": {},
   "outputs": [
    {
     "data": {
      "text/plain": [
       "['InvoiceNo;StockCode;Description;Quantity;InvoiceDate;UnitPrice;CustomerID;Country',\n",
       " '536365;85123A;WHITE HANGING HEART T-LIGHT HOLDER;6;1.12.2010 08:26;2,55;17850;United Kingdom',\n",
       " '536365;71053;WHITE METAL LANTERN;6;1.12.2010 08:26;3,39;17850;United Kingdom',\n",
       " '536365;84406B;CREAM CUPID HEARTS COAT HANGER;8;1.12.2010 08:26;2,75;17850;United Kingdom',\n",
       " '536365;84029G;KNITTED UNION FLAG HOT WATER BOTTLE;6;1.12.2010 08:26;3,39;17850;United Kingdom']"
      ]
     },
     "execution_count": 9,
     "metadata": {},
     "output_type": "execute_result"
    }
   ],
   "source": [
    "file = f\"{os.getcwd()}/OnlineRetail.csv\"\n",
    "retailRDD = sc.textFile(file)\n",
    "retailRDD.take(5)"
   ]
  },
  {
   "cell_type": "code",
   "execution_count": 27,
   "id": "8c9deda3",
   "metadata": {},
   "outputs": [
    {
     "data": {
      "text/plain": [
       "['536365;85123A;WHITE HANGING HEART T-LIGHT HOLDER;6;1.12.2010 08:26;2,55;17850;United Kingdom',\n",
       " '536365;71053;WHITE METAL LANTERN;6;1.12.2010 08:26;3,39;17850;United Kingdom',\n",
       " '536365;84406B;CREAM CUPID HEARTS COAT HANGER;8;1.12.2010 08:26;2,75;17850;United Kingdom',\n",
       " '536365;84029G;KNITTED UNION FLAG HOT WATER BOTTLE;6;1.12.2010 08:26;3,39;17850;United Kingdom',\n",
       " '536365;84029E;RED WOOLLY HOTTIE WHITE HEART.;6;1.12.2010 08:26;3,39;17850;United Kingdom']"
      ]
     },
     "execution_count": 27,
     "metadata": {},
     "output_type": "execute_result"
    }
   ],
   "source": [
    "header = retailRDD.first()\n",
    "headerRDD = sc.parallelize(header)\n",
    "retailRDD_without_header = retailRDD.filter(lambda x: x != header)\n",
    "retailRDD_without_header.take(5)"
   ]
  },
  {
   "cell_type": "code",
   "execution_count": 28,
   "id": "590c0715",
   "metadata": {},
   "outputs": [],
   "source": [
    "def cancelled_price(line: str):\n",
    "    is_cancelled = True if (line.split(\";\")[0].startswith(\"C\")) else False\n",
    "    quantity = float(line.split(\";\")[3])\n",
    "    price = float(line.split(\";\")[5].replace(\",\", \".\"))\n",
    "    total = quantity * price\n",
    "    \n",
    "    return  (is_cancelled, total)"
   ]
  },
  {
   "cell_type": "code",
   "execution_count": 29,
   "id": "eda05787",
   "metadata": {},
   "outputs": [],
   "source": [
    "cancelled_total = retailRDD_without_header.map(cancelled_price)"
   ]
  },
  {
   "cell_type": "code",
   "execution_count": 30,
   "id": "b70491a3",
   "metadata": {},
   "outputs": [
    {
     "data": {
      "text/plain": [
       "[(False, 15.299999999999999),\n",
       " (False, 20.34),\n",
       " (False, 22.0),\n",
       " (False, 20.34),\n",
       " (False, 20.34)]"
      ]
     },
     "execution_count": 30,
     "metadata": {},
     "output_type": "execute_result"
    }
   ],
   "source": [
    "cancelled_total.take(5)"
   ]
  },
  {
   "cell_type": "code",
   "execution_count": 31,
   "id": "bad94def",
   "metadata": {},
   "outputs": [
    {
     "name": "stderr",
     "output_type": "stream",
     "text": [
      "\r",
      "[Stage 19:>                                                         (0 + 2) / 2]\r",
      "\r",
      "                                                                                \r"
     ]
    },
    {
     "data": {
      "text/plain": [
       "[(False, 10644560.424000263), (True, -896812.4900000116)]"
      ]
     },
     "execution_count": 31,
     "metadata": {},
     "output_type": "execute_result"
    }
   ],
   "source": [
    "cancelled_total_reduced = cancelled_total.reduceByKey(lambda x,y: x+y)\n",
    "cancelled_total_reduced.take(5)"
   ]
  },
  {
   "cell_type": "code",
   "execution_count": 32,
   "id": "e24b0994",
   "metadata": {},
   "outputs": [
    {
     "data": {
      "text/plain": [
       "[(True, -896812.4900000116)]"
      ]
     },
     "execution_count": 32,
     "metadata": {},
     "output_type": "execute_result"
    }
   ],
   "source": [
    "cancelled_total_reduced_only_true = cancelled_total_reduced.filter(lambda x: x[0] == True)\n",
    "cancelled_total_reduced_only_true.take(5)"
   ]
  },
  {
   "cell_type": "code",
   "execution_count": 33,
   "id": "0718415b",
   "metadata": {},
   "outputs": [
    {
     "data": {
      "text/plain": [
       "[-896812.4900000116]"
      ]
     },
     "execution_count": 33,
     "metadata": {},
     "output_type": "execute_result"
    }
   ],
   "source": [
    "cancelled_total_reduced.filter(lambda x: x[0] == True).map(lambda x: x[1]).take(1)"
   ]
  },
  {
   "cell_type": "code",
   "execution_count": 36,
   "id": "9000e296",
   "metadata": {},
   "outputs": [
    {
     "data": {
      "text/plain": [
       "[-896812.4900000116]"
      ]
     },
     "execution_count": 36,
     "metadata": {},
     "output_type": "execute_result"
    }
   ],
   "source": [
    "cancelled_total_reduced.filter(lambda x: x[0] == True).values().take(1)"
   ]
  }
 ],
 "metadata": {
  "kernelspec": {
   "display_name": "Python 3 (ipykernel)",
   "language": "python",
   "name": "python3"
  },
  "language_info": {
   "codemirror_mode": {
    "name": "ipython",
    "version": 3
   },
   "file_extension": ".py",
   "mimetype": "text/x-python",
   "name": "python",
   "nbconvert_exporter": "python",
   "pygments_lexer": "ipython3",
   "version": "3.10.6"
  }
 },
 "nbformat": 4,
 "nbformat_minor": 5
}
