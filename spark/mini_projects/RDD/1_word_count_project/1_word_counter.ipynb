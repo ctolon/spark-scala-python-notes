{
 "cells": [
  {
   "cell_type": "code",
   "execution_count": 1,
   "id": "19d19e20",
   "metadata": {},
   "outputs": [],
   "source": [
    "# Core Python Libs\n",
    "import os\n",
    "import sys\n",
    "import pathlib\n",
    "\n",
    "# Spark init\n",
    "import findspark\n",
    "findspark.init()"
   ]
  },
  {
   "cell_type": "code",
   "execution_count": 2,
   "id": "7429e5f6",
   "metadata": {},
   "outputs": [],
   "source": [
    "# SPARK_CONTEXT\n",
    "from pyspark.sql import SparkSession\n",
    "from pyspark.conf import SparkConf\n",
    "import pandas as pd"
   ]
  },
  {
   "cell_type": "code",
   "execution_count": 3,
   "id": "a8d2f66e",
   "metadata": {},
   "outputs": [],
   "source": [
    "# Get Environment Path Variables\n",
    "HOME_PATH = os.environ[\"HOME\"]\n",
    "CURRENT_PATH = os.path.abspath(os.getcwd())"
   ]
  },
  {
   "cell_type": "code",
   "execution_count": 4,
   "id": "6bc09465",
   "metadata": {},
   "outputs": [],
   "source": [
    "# Get Data Path\n",
    "file_name = \"omer_seyfettin_forsa_hikaye.txt\"\n",
    "DATA_PATH = CURRENT_PATH + '/' + file_name"
   ]
  },
  {
   "cell_type": "code",
   "execution_count": 5,
   "id": "c23e6928",
   "metadata": {},
   "outputs": [
    {
     "name": "stdout",
     "output_type": "stream",
     "text": [
      "File Found in path: /home/batu/spark_mini_projects/mini_projects/1_word_count_project/omer_seyfettin_forsa_hikaye.txt\n"
     ]
    }
   ],
   "source": [
    "# Check Path of Data (if file is exits, it will return true)\n",
    "if os.path.exists(DATA_PATH):\n",
    "    print(f\"File Found in path: {DATA_PATH}\")\n",
    "else:\n",
    "    print(f\"File Not Found! check your file path: {DATA_PATH}\")"
   ]
  },
  {
   "cell_type": "code",
   "execution_count": 6,
   "id": "340eb199",
   "metadata": {},
   "outputs": [
    {
     "name": "stdout",
     "output_type": "stream",
     "text": [
      "23/04/06 23:31:45 WARN Utils: Your hostname, batu-hep resolves to a loopback address: 127.0.1.1; using 192.168.2.106 instead (on interface wlp4s0)\n",
      "23/04/06 23:31:45 WARN Utils: Set SPARK_LOCAL_IP if you need to bind to another address\n"
     ]
    },
    {
     "name": "stderr",
     "output_type": "stream",
     "text": [
      "Setting default log level to \"WARN\".\n",
      "To adjust logging level use sc.setLogLevel(newLevel). For SparkR, use setLogLevel(newLevel).\n"
     ]
    },
    {
     "name": "stdout",
     "output_type": "stream",
     "text": [
      "23/04/06 23:31:46 WARN NativeCodeLoader: Unable to load native-hadoop library for your platform... using builtin-java classes where applicable\n"
     ]
    }
   ],
   "source": [
    "# Build an spark session\n",
    "spark = SparkSession.builder \\\n",
    ".master(\"local[4]\") \\\n",
    ".appName(\"Wordcount_project\") \\\n",
    ".getOrCreate()"
   ]
  },
  {
   "cell_type": "code",
   "execution_count": 7,
   "id": "b63d2ea6",
   "metadata": {},
   "outputs": [],
   "source": [
    "# Create spark context object for create RDDs (for connection to computing cluster)\n",
    "sc = spark.sparkContext"
   ]
  },
  {
   "cell_type": "code",
   "execution_count": 8,
   "id": "2574b8c8",
   "metadata": {},
   "outputs": [],
   "source": [
    "# Create RDD based on data\n",
    "story_rdd = sc.textFile(DATA_PATH)"
   ]
  },
  {
   "cell_type": "code",
   "execution_count": 9,
   "id": "969cfc7a",
   "metadata": {},
   "outputs": [
    {
     "name": "stderr",
     "output_type": "stream",
     "text": [
      "                                                                                \r"
     ]
    },
    {
     "data": {
      "text/plain": [
       "103"
      ]
     },
     "execution_count": 9,
     "metadata": {},
     "output_type": "execute_result"
    }
   ],
   "source": [
    "# Check number of lines in data\n",
    "story_rdd.count()"
   ]
  },
  {
   "cell_type": "code",
   "execution_count": 10,
   "id": "d04ca5f1",
   "metadata": {},
   "outputs": [
    {
     "data": {
      "text/plain": [
       "['Ömer Seyfettin - Forsa',\n",
       " '',\n",
       " 'Akdeniz’in, kahramanlık yuvası sonsuz ufuklarına bakan küçük tepe, minimini bir çiçek ormanı gibiydi. İnce uzun dallı badem ağaçlarının alaca gölgeleri sahile inen keçiyoluna düşüyor, ilkbaharın tatlı rüzgârıyla sarhoş olan martılar, çılgın bağrışlarıyla havayı çınlatıyordu. Badem bahçesinin yanı geniş bir bağdı. Beyaz taşlardan yapılmış kısa bir duvarın ötesindeki harabe vadiye kadar iniyordu. Bağın ortasındaki yıkık kulübenin kapısız girişinden bir ihtiyar çıktı. Saçı sakalı bembeyazdı. Kamburunu düzeltmek istiyormuş gibi gerindi. Elleri, ayakları titriyordu. Gök kadar boş, gök kadar sakin duran denize baktı, baktı.',\n",
       " '',\n",
       " '– Hayırdır inşallah! dedi.']"
      ]
     },
     "execution_count": 10,
     "metadata": {},
     "output_type": "execute_result"
    }
   ],
   "source": [
    "# Head 5 in data\n",
    "story_rdd.take(5)"
   ]
  },
  {
   "cell_type": "code",
   "execution_count": 11,
   "id": "a6193f25",
   "metadata": {},
   "outputs": [],
   "source": [
    "# Split all words with spaces per line\n",
    "words = story_rdd.flatMap(lambda line: line.split(\" \"))"
   ]
  },
  {
   "cell_type": "code",
   "execution_count": 12,
   "id": "a1cd5c2b",
   "metadata": {},
   "outputs": [
    {
     "data": {
      "text/plain": [
       "['Ömer',\n",
       " 'Seyfettin',\n",
       " '-',\n",
       " 'Forsa',\n",
       " '',\n",
       " 'Akdeniz’in,',\n",
       " 'kahramanlık',\n",
       " 'yuvası',\n",
       " 'sonsuz',\n",
       " 'ufuklarına',\n",
       " 'bakan',\n",
       " 'küçük',\n",
       " 'tepe,',\n",
       " 'minimini',\n",
       " 'bir',\n",
       " 'çiçek',\n",
       " 'ormanı',\n",
       " 'gibiydi.',\n",
       " 'İnce',\n",
       " 'uzun']"
      ]
     },
     "execution_count": 12,
     "metadata": {},
     "output_type": "execute_result"
    }
   ],
   "source": [
    "# Display first 20 words per line for checking\n",
    "words.take(20)"
   ]
  },
  {
   "cell_type": "code",
   "execution_count": 13,
   "id": "7bb07267",
   "metadata": {},
   "outputs": [],
   "source": [
    "# Create tuples template as (word, 1)\n",
    "words_numbers = words.map(lambda word: (word, 1))"
   ]
  },
  {
   "cell_type": "code",
   "execution_count": 14,
   "id": "06027df7",
   "metadata": {},
   "outputs": [
    {
     "data": {
      "text/plain": [
       "[('Ömer', 1), ('Seyfettin', 1), ('-', 1), ('Forsa', 1), ('', 1)]"
      ]
     },
     "execution_count": 14,
     "metadata": {},
     "output_type": "execute_result"
    }
   ],
   "source": [
    "# check template\n",
    "words_numbers.take(5)"
   ]
  },
  {
   "cell_type": "code",
   "execution_count": 15,
   "id": "1f4269f7",
   "metadata": {},
   "outputs": [],
   "source": [
    "# Reduce per key every tuple and found number of repeated words\n",
    "words_numbers_RDK = words_numbers.reduceByKey(lambda x,y : x + y)"
   ]
  },
  {
   "cell_type": "code",
   "execution_count": 16,
   "id": "30b88cb0",
   "metadata": {},
   "outputs": [
    {
     "name": "stderr",
     "output_type": "stream",
     "text": [
      "                                                                                \r"
     ]
    },
    {
     "data": {
      "text/plain": [
       "[('Ömer', 1), ('Seyfettin', 1), ('Forsa', 1), ('', 59), ('Akdeniz’in,', 1)]"
      ]
     },
     "execution_count": 16,
     "metadata": {},
     "output_type": "execute_result"
    }
   ],
   "source": [
    "# check\n",
    "words_numbers_RDK.take(5)"
   ]
  },
  {
   "cell_type": "code",
   "execution_count": 17,
   "id": "d25d8f21",
   "metadata": {},
   "outputs": [],
   "source": [
    "# Reverse template as (1, word)\n",
    "words_numbers_RDK_reversed = words_numbers_RDK.map(lambda x: (x[1], x[0]))"
   ]
  },
  {
   "cell_type": "code",
   "execution_count": 18,
   "id": "623f5e87",
   "metadata": {},
   "outputs": [
    {
     "data": {
      "text/plain": [
       "[(1, 'Ömer'), (1, 'Seyfettin'), (1, 'Forsa'), (59, ''), (1, 'Akdeniz’in,')]"
      ]
     },
     "execution_count": 18,
     "metadata": {},
     "output_type": "execute_result"
    }
   ],
   "source": [
    "words_numbers_RDK_reversed.take(5)"
   ]
  },
  {
   "cell_type": "code",
   "execution_count": 19,
   "id": "494e6878",
   "metadata": {},
   "outputs": [
    {
     "data": {
      "text/plain": [
       "[(59, ''),\n",
       " (33, 'bir'),\n",
       " (31, '–'),\n",
       " (8, 'yıl'),\n",
       " (6, 'diye'),\n",
       " (5, 'Türk'),\n",
       " (5, 'dedi.'),\n",
       " (5, 'onun'),\n",
       " (5, 'doğru'),\n",
       " (5, 'Kırk'),\n",
       " (4, 'Yirmi'),\n",
       " (4, 'tutsak'),\n",
       " (4, 'Ben'),\n",
       " (4, 'gibi'),\n",
       " (4, 'Ama'),\n",
       " (4, 'büyük'),\n",
       " (3, 'yanı'),\n",
       " (3, 'şey'),\n",
       " (3, 'onu'),\n",
       " (3, 'geminin')]"
      ]
     },
     "execution_count": 19,
     "metadata": {},
     "output_type": "execute_result"
    }
   ],
   "source": [
    "# Results as most duplicated words in text data (for highest 20)\n",
    "words_numbers_RDK_reversed.sortByKey(False).take(20)"
   ]
  },
  {
   "cell_type": "code",
   "execution_count": 20,
   "id": "39e64e94",
   "metadata": {},
   "outputs": [],
   "source": [
    "# TODO özel karakterleri sil, veri görselleştirmesi yap!"
   ]
  },
  {
   "cell_type": "code",
   "execution_count": 21,
   "id": "a858d743",
   "metadata": {},
   "outputs": [
    {
     "name": "stdout",
     "output_type": "stream",
     "text": [
      "<class 'pyspark.rdd.PipelinedRDD'>\n"
     ]
    }
   ],
   "source": [
    "print(type(words_numbers_RDK_reversed))"
   ]
  },
  {
   "cell_type": "code",
   "execution_count": 22,
   "id": "bddff3e1",
   "metadata": {},
   "outputs": [],
   "source": [
    "my_df = words_numbers_RDK_reversed.toDF()"
   ]
  },
  {
   "cell_type": "code",
   "execution_count": 23,
   "id": "82c9f673",
   "metadata": {},
   "outputs": [
    {
     "data": {
      "text/plain": [
       "Row(_1=1, _2='Ömer')"
      ]
     },
     "execution_count": 23,
     "metadata": {},
     "output_type": "execute_result"
    }
   ],
   "source": [
    "my_df.head()"
   ]
  },
  {
   "cell_type": "code",
   "execution_count": null,
   "id": "d5788210",
   "metadata": {},
   "outputs": [],
   "source": []
  }
 ],
 "metadata": {
  "kernelspec": {
   "display_name": "Python 3 (ipykernel)",
   "language": "python",
   "name": "python3"
  },
  "language_info": {
   "codemirror_mode": {
    "name": "ipython",
    "version": 3
   },
   "file_extension": ".py",
   "mimetype": "text/x-python",
   "name": "python",
   "nbconvert_exporter": "python",
   "pygments_lexer": "ipython3",
   "version": "3.10.6"
  }
 },
 "nbformat": 4,
 "nbformat_minor": 5
}
