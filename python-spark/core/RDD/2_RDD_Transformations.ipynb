{
 "cells": [
  {
   "cell_type": "code",
   "execution_count": 2,
   "id": "69e331fb",
   "metadata": {
    "tags": []
   },
   "outputs": [],
   "source": [
    "import findspark\n",
    "findspark.init()"
   ]
  },
  {
   "cell_type": "code",
   "execution_count": 1,
   "id": "12b25734",
   "metadata": {
    "tags": []
   },
   "outputs": [],
   "source": [
    "from pyspark.sql import SparkSession\n",
    "from pyspark.conf import SparkConf\n",
    "from pyspark import SparkContext"
   ]
  },
  {
   "cell_type": "code",
   "execution_count": 9,
   "id": "ed88584a",
   "metadata": {
    "tags": []
   },
   "outputs": [],
   "source": [
    "pyspark = SparkSession.builder \\\n",
    ".master(\"local[4]\") \\\n",
    ".appName(\"Create a RDD\") \\\n",
    ".config(\"spark.executor.memory\", \"4g\") \\\n",
    ".config(\"spark.driver.memory\", \"2g\") \\\n",
    ".getOrCreate()"
   ]
  },
  {
   "cell_type": "markdown",
   "id": "6aafe874",
   "metadata": {},
   "source": [
    "## 1. RDD Basic Transformations"
   ]
  },
  {
   "cell_type": "code",
   "execution_count": 10,
   "id": "48bcb96c",
   "metadata": {
    "tags": []
   },
   "outputs": [],
   "source": [
    "sc = pyspark.sparkContext"
   ]
  },
  {
   "cell_type": "code",
   "execution_count": 11,
   "id": "7136e926",
   "metadata": {
    "tags": []
   },
   "outputs": [],
   "source": [
    "my_list = [1,2,3,4,5,6,7,8,8,4,42,67]"
   ]
  },
  {
   "cell_type": "markdown",
   "id": "bd7d740f",
   "metadata": {},
   "source": [
    "RDD yaratmak için parallelize"
   ]
  },
  {
   "cell_type": "code",
   "execution_count": 12,
   "id": "8e039bcd",
   "metadata": {
    "tags": []
   },
   "outputs": [],
   "source": [
    "list_rdd = sc.parallelize(my_list)"
   ]
  },
  {
   "cell_type": "code",
   "execution_count": 13,
   "id": "af94288a",
   "metadata": {
    "tags": []
   },
   "outputs": [
    {
     "data": {
      "text/plain": [
       "[1, 2, 3, 4, 5, 6, 7, 8, 8, 4]"
      ]
     },
     "execution_count": 13,
     "metadata": {},
     "output_type": "execute_result"
    }
   ],
   "source": [
    "list_rdd.take(10)"
   ]
  },
  {
   "cell_type": "markdown",
   "id": "f1b4d097",
   "metadata": {},
   "source": [
    "### map()\n",
    "\n",
    "Klasik mapping"
   ]
  },
  {
   "cell_type": "code",
   "execution_count": 14,
   "id": "b2759d52",
   "metadata": {
    "tags": []
   },
   "outputs": [
    {
     "data": {
      "text/plain": [
       "[1, 8, 27, 64, 125]"
      ]
     },
     "execution_count": 14,
     "metadata": {},
     "output_type": "execute_result"
    }
   ],
   "source": [
    "list_rdd.map(lambda x: x*x*x).take(5)"
   ]
  },
  {
   "cell_type": "markdown",
   "id": "67eadb29",
   "metadata": {},
   "source": [
    "### filter()\n",
    "\n",
    "Koşula göre filtre"
   ]
  },
  {
   "cell_type": "code",
   "execution_count": 15,
   "id": "6f8c5508",
   "metadata": {
    "tags": []
   },
   "outputs": [
    {
     "data": {
      "text/plain": [
       "[8, 8]"
      ]
     },
     "execution_count": 15,
     "metadata": {},
     "output_type": "execute_result"
    }
   ],
   "source": [
    "list_rdd.filter(lambda x: x == 8).take(5)"
   ]
  },
  {
   "cell_type": "markdown",
   "id": "e78584bb",
   "metadata": {},
   "source": [
    "### flatMap()\n",
    "\n",
    "Her elemanı mapleme"
   ]
  },
  {
   "cell_type": "code",
   "execution_count": 16,
   "id": "267829ff",
   "metadata": {
    "tags": []
   },
   "outputs": [],
   "source": [
    "txt = [\"Hello\", \"How are you?\",\"CERN-LHC\", \"Data Engineering\"]"
   ]
  },
  {
   "cell_type": "code",
   "execution_count": 17,
   "id": "e981f4f3",
   "metadata": {
    "tags": []
   },
   "outputs": [],
   "source": [
    "txt_rdd = sc.parallelize(txt)"
   ]
  },
  {
   "cell_type": "code",
   "execution_count": 18,
   "id": "416712f4",
   "metadata": {
    "tags": []
   },
   "outputs": [
    {
     "data": {
      "text/plain": [
       "['HELLO', 'HOW', 'ARE', 'YOU?', 'CERN-LHC', 'DATA', 'ENGINEERING']"
      ]
     },
     "execution_count": 18,
     "metadata": {},
     "output_type": "execute_result"
    }
   ],
   "source": [
    "txt_rdd.flatMap(lambda x: x.split(\" \")).map(lambda x: x.upper()).take(9)"
   ]
  },
  {
   "cell_type": "markdown",
   "id": "e332bc85",
   "metadata": {},
   "source": [
    "### distinct()\n",
    "\n",
    "RDD içindeki unique elemanları seçer"
   ]
  },
  {
   "cell_type": "code",
   "execution_count": 19,
   "id": "8eed220d",
   "metadata": {
    "tags": []
   },
   "outputs": [
    {
     "data": {
      "text/plain": [
       "[1, 2, 3, 67, 4, 5, 6, 7, 8, 42]"
      ]
     },
     "execution_count": 19,
     "metadata": {},
     "output_type": "execute_result"
    }
   ],
   "source": [
    "list_rdd.distinct().take(10)"
   ]
  },
  {
   "cell_type": "markdown",
   "id": "a0b8b3d8",
   "metadata": {},
   "source": [
    "### sample()\n",
    "\n",
    "RDD'lerden seed ile sample seçimi"
   ]
  },
  {
   "cell_type": "code",
   "execution_count": 20,
   "id": "2c1f03e9",
   "metadata": {
    "tags": []
   },
   "outputs": [
    {
     "data": {
      "text/plain": [
       "[2, 2, 3, 4, 5, 8, 8, 4, 42, 42]"
      ]
     },
     "execution_count": 20,
     "metadata": {},
     "output_type": "execute_result"
    }
   ],
   "source": [
    "list_rdd.sample(True, 0.7, 45).take(10)"
   ]
  },
  {
   "cell_type": "markdown",
   "id": "8b0eb107",
   "metadata": {},
   "source": [
    "## 2. RDD Pair Transformations"
   ]
  },
  {
   "cell_type": "code",
   "execution_count": 21,
   "id": "36c9e4ba",
   "metadata": {
    "tags": []
   },
   "outputs": [],
   "source": [
    "my_list_1 = [1,5,7,9,5,7]\n",
    "my_list_2 = [1,4,8,19]\n",
    "rdd_my_list_1 = sc.parallelize(my_list_1)\n",
    "rdd_my_list_2 = sc.parallelize(my_list_2)"
   ]
  },
  {
   "cell_type": "markdown",
   "id": "2f653285",
   "metadata": {},
   "source": [
    "### union()\n",
    "\n",
    "RDD'lerin birleşimini verir"
   ]
  },
  {
   "cell_type": "code",
   "execution_count": 22,
   "id": "af0642bf",
   "metadata": {
    "tags": []
   },
   "outputs": [
    {
     "data": {
      "text/plain": [
       "[1, 5, 7, 9, 5, 7, 1, 4, 8, 19]"
      ]
     },
     "execution_count": 22,
     "metadata": {},
     "output_type": "execute_result"
    }
   ],
   "source": [
    "rdd_my_list_1.union(rdd_my_list_2).take(10)"
   ]
  },
  {
   "cell_type": "markdown",
   "id": "3f3bb0f2",
   "metadata": {},
   "source": [
    "### intersection()\n",
    "\n",
    "RDD'lerin kesişimini verir"
   ]
  },
  {
   "cell_type": "code",
   "execution_count": 23,
   "id": "f8e4ea35",
   "metadata": {
    "tags": []
   },
   "outputs": [
    {
     "data": {
      "text/plain": [
       "[1]"
      ]
     },
     "execution_count": 23,
     "metadata": {},
     "output_type": "execute_result"
    }
   ],
   "source": [
    "rdd_my_list_1.intersection(rdd_my_list_2).take(10)"
   ]
  },
  {
   "cell_type": "markdown",
   "id": "f76609a9",
   "metadata": {},
   "source": [
    "### substract()\n",
    "\n",
    "RDD'lerin farkını alır"
   ]
  },
  {
   "cell_type": "code",
   "execution_count": 24,
   "id": "41fde15a",
   "metadata": {
    "tags": []
   },
   "outputs": [
    {
     "data": {
      "text/plain": [
       "[5, 5, 7, 7, 9]"
      ]
     },
     "execution_count": 24,
     "metadata": {},
     "output_type": "execute_result"
    }
   ],
   "source": [
    "rdd_my_list_1.subtract(rdd_my_list_2).take(10)"
   ]
  },
  {
   "cell_type": "markdown",
   "id": "3fe15929",
   "metadata": {},
   "source": [
    "### cartesian()\n",
    "\n",
    "2 RDD ile cartezyen ikilisi oluşturma"
   ]
  },
  {
   "cell_type": "code",
   "execution_count": 25,
   "id": "ebd7034d",
   "metadata": {
    "tags": []
   },
   "outputs": [
    {
     "name": "stderr",
     "output_type": "stream",
     "text": [
      "\r",
      "[Stage 47:========================================>             (75 + 16) / 100]\r",
      "\r",
      "                                                                                \r"
     ]
    },
    {
     "data": {
      "text/plain": [
       "[(1, 1),\n",
       " (1, 4),\n",
       " (1, 8),\n",
       " (1, 19),\n",
       " (5, 1),\n",
       " (5, 4),\n",
       " (5, 8),\n",
       " (5, 19),\n",
       " (7, 1),\n",
       " (7, 4)]"
      ]
     },
     "execution_count": 25,
     "metadata": {},
     "output_type": "execute_result"
    }
   ],
   "source": [
    "rdd_my_list_1.cartesian(rdd_my_list_2).take(10)"
   ]
  },
  {
   "cell_type": "markdown",
   "id": "08bbc40f",
   "metadata": {},
   "source": [
    "## 3. RDD Basic Actions"
   ]
  },
  {
   "cell_type": "markdown",
   "id": "e6ff7f25-46ab-4b9a-a354-7dd592c0ce3d",
   "metadata": {},
   "source": [
    "### collect()\n",
    "\n",
    "RDD'deki tüm elemanları getirir"
   ]
  },
  {
   "cell_type": "code",
   "execution_count": 26,
   "id": "1c458dde",
   "metadata": {
    "tags": []
   },
   "outputs": [
    {
     "data": {
      "text/plain": [
       "[1, 5, 7, 9, 5, 7]"
      ]
     },
     "execution_count": 26,
     "metadata": {},
     "output_type": "execute_result"
    }
   ],
   "source": [
    "rdd_my_list_1.collect()"
   ]
  },
  {
   "cell_type": "markdown",
   "id": "43023975-7ec2-4c8d-adb1-7063f6c2a2fd",
   "metadata": {},
   "source": [
    "### count() \n",
    "\n",
    "Length of RDD"
   ]
  },
  {
   "cell_type": "code",
   "execution_count": 27,
   "id": "d3647664-72d8-4ed0-ba6b-38d0af7e052d",
   "metadata": {
    "tags": []
   },
   "outputs": [
    {
     "data": {
      "text/plain": [
       "6"
      ]
     },
     "execution_count": 27,
     "metadata": {},
     "output_type": "execute_result"
    }
   ],
   "source": [
    "rdd_my_list_1.count()"
   ]
  },
  {
   "cell_type": "markdown",
   "id": "ce84464b-8d41-45f0-9162-e133a58ca284",
   "metadata": {
    "tags": []
   },
   "source": [
    "### countByValue()\n",
    "\n",
    "RDD içinde her bir değerden kaç tane varsa onun ile dict oluşturup getirir"
   ]
  },
  {
   "cell_type": "code",
   "execution_count": 28,
   "id": "1a220a41-420e-4d0f-9c97-516679a27c70",
   "metadata": {
    "tags": []
   },
   "outputs": [
    {
     "data": {
      "text/plain": [
       "defaultdict(int, {1: 1, 5: 2, 7: 2, 9: 1})"
      ]
     },
     "execution_count": 28,
     "metadata": {},
     "output_type": "execute_result"
    }
   ],
   "source": [
    "rdd_my_list_1.countByValue()"
   ]
  },
  {
   "cell_type": "markdown",
   "id": "531faa48-f3f8-4e92-acc9-ccc85db6f7ca",
   "metadata": {},
   "source": [
    "### take()\n",
    "\n",
    "RDD içinden istenilen kadar eleman getirme"
   ]
  },
  {
   "cell_type": "code",
   "execution_count": 29,
   "id": "4e01be8a-1290-48ef-83eb-3ec424a0e08b",
   "metadata": {
    "tags": []
   },
   "outputs": [
    {
     "data": {
      "text/plain": [
       "[1, 5, 7]"
      ]
     },
     "execution_count": 29,
     "metadata": {},
     "output_type": "execute_result"
    }
   ],
   "source": [
    "rdd_my_list_1.take(3)"
   ]
  },
  {
   "cell_type": "markdown",
   "id": "05e468b3",
   "metadata": {},
   "source": [
    "### top()\n",
    "\n",
    "En üstten istenilen kadar eleman getirme"
   ]
  },
  {
   "cell_type": "code",
   "execution_count": 30,
   "id": "fc4292fa-ab47-4b7b-8fd8-2a6f03415def",
   "metadata": {
    "tags": []
   },
   "outputs": [
    {
     "data": {
      "text/plain": [
       "[9, 7, 7, 5]"
      ]
     },
     "execution_count": 30,
     "metadata": {},
     "output_type": "execute_result"
    }
   ],
   "source": [
    "rdd_my_list_1.top(4)"
   ]
  },
  {
   "cell_type": "markdown",
   "id": "2d66736a",
   "metadata": {},
   "source": [
    "### takeOrdered()\n",
    "\n",
    "İstenilen kadar elemanı sıralı getirme"
   ]
  },
  {
   "cell_type": "code",
   "execution_count": 31,
   "id": "103f1d37-d385-472e-97f8-f2f76233d52b",
   "metadata": {
    "tags": []
   },
   "outputs": [
    {
     "data": {
      "text/plain": [
       "[1, 5, 5, 7, 7, 9]"
      ]
     },
     "execution_count": 31,
     "metadata": {},
     "output_type": "execute_result"
    }
   ],
   "source": [
    "rdd_my_list_1.takeOrdered(20)"
   ]
  },
  {
   "cell_type": "markdown",
   "id": "6656d064",
   "metadata": {},
   "source": [
    "### takeSample()\n",
    "\n",
    "istenilen kadar sample'ı seede kadar take ile eager getirir"
   ]
  },
  {
   "cell_type": "code",
   "execution_count": 32,
   "id": "a2c9b55f-3d83-47c1-a1ce-8b99ee99318b",
   "metadata": {
    "tags": []
   },
   "outputs": [
    {
     "data": {
      "text/plain": [
       "[1, 7, 9, 7, 5]"
      ]
     },
     "execution_count": 32,
     "metadata": {},
     "output_type": "execute_result"
    }
   ],
   "source": [
    "rdd_my_list_1.takeSample(False, 5, 33)"
   ]
  },
  {
   "cell_type": "markdown",
   "id": "8263d5b3",
   "metadata": {},
   "source": [
    "### reduce()\n",
    "\n",
    "Elemanları kurala göre tek elemana indirger"
   ]
  },
  {
   "cell_type": "code",
   "execution_count": 33,
   "id": "a92992c7-69a4-4e4f-bd16-77e35099f5c0",
   "metadata": {
    "tags": []
   },
   "outputs": [
    {
     "data": {
      "text/plain": [
       "34"
      ]
     },
     "execution_count": 33,
     "metadata": {},
     "output_type": "execute_result"
    }
   ],
   "source": [
    "rdd_my_list_1.reduce(lambda x,y: x+y)"
   ]
  },
  {
   "cell_type": "markdown",
   "id": "cf545a77",
   "metadata": {},
   "source": [
    "### fold()\n",
    "\n",
    "reduce'a çok benzer"
   ]
  },
  {
   "cell_type": "code",
   "execution_count": 34,
   "id": "b68f386c-d867-47b9-bace-3225594917e5",
   "metadata": {
    "tags": []
   },
   "outputs": [
    {
     "data": {
      "text/plain": [
       "34"
      ]
     },
     "execution_count": 34,
     "metadata": {},
     "output_type": "execute_result"
    }
   ],
   "source": [
    "rdd_my_list_1.fold(0, lambda x,y: x+y)"
   ]
  },
  {
   "cell_type": "markdown",
   "id": "391c2484",
   "metadata": {},
   "source": [
    "### aggregate()\n",
    "\n",
    "sırayla lambda fonksiyonlarını uygular. Bu örnekte elemanları toplayarak tek elemana indirger ve length verir"
   ]
  },
  {
   "cell_type": "code",
   "execution_count": 41,
   "id": "c61e91c1-b4dc-4047-a0e6-477948bb81dc",
   "metadata": {},
   "outputs": [
    {
     "name": "stdout",
     "output_type": "stream",
     "text": [
      "[1, 5, 7, 9, 5, 7]\n"
     ]
    },
    {
     "data": {
      "text/plain": [
       "(34, 6)"
      ]
     },
     "execution_count": 41,
     "metadata": {},
     "output_type": "execute_result"
    }
   ],
   "source": [
    "print(rdd_my_list_1.collect())\n",
    "rdd_my_list_1.aggregate((0,0), lambda x, y: (x[0] + y, x[1] + 1), lambda x, y: (x[0] + y[0], x[1] + y[1]))\n"
   ]
  }
 ],
 "metadata": {
  "kernelspec": {
   "display_name": "Python 3 (ipykernel)",
   "language": "python",
   "name": "python3"
  },
  "language_info": {
   "codemirror_mode": {
    "name": "ipython",
    "version": 3
   },
   "file_extension": ".py",
   "mimetype": "text/x-python",
   "name": "python",
   "nbconvert_exporter": "python",
   "pygments_lexer": "ipython3",
   "version": "3.10.6"
  }
 },
 "nbformat": 4,
 "nbformat_minor": 5
}
