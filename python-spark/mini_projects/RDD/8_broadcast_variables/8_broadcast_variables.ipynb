{
 "cells": [
  {
   "cell_type": "code",
   "execution_count": null,
   "id": "0d35fb98",
   "metadata": {},
   "outputs": [],
   "source": []
  },
  {
   "cell_type": "code",
   "execution_count": 1,
   "id": "f0d27555",
   "metadata": {},
   "outputs": [],
   "source": [
    "from pyspark import SparkContext\n",
    "from pyspark.sql import SparkSession\n",
    "import os"
   ]
  },
  {
   "cell_type": "code",
   "execution_count": 2,
   "id": "2e1a5de5",
   "metadata": {},
   "outputs": [
    {
     "name": "stdout",
     "output_type": "stream",
     "text": [
      "23/04/16 00:42:54 WARN SparkSession: Using an existing Spark session; only runtime SQL configurations will take effect.\n"
     ]
    }
   ],
   "source": [
    "spark = SparkSession.builder \\\n",
    ".appName(\"broadcast_vars\") \\\n",
    ".master(\"local[*]\") \\\n",
    ".config(\"spark.executor.memory\", \"2g\") \\\n",
    ".config(\"spark.driver.memory\", \"4g\") \\\n",
    ".getOrCreate()"
   ]
  },
  {
   "cell_type": "code",
   "execution_count": 3,
   "id": "b2721923",
   "metadata": {},
   "outputs": [],
   "source": [
    "sc = spark.sparkContext\n",
    "sc.setLogLevel(\"ERROR\")"
   ]
  },
  {
   "cell_type": "code",
   "execution_count": 7,
   "id": "70345f9a",
   "metadata": {},
   "outputs": [],
   "source": [
    "current_dir = os.getcwd()\n",
    "order_items_path = f\"{current_dir}/order_items.csv\"\n",
    "products_path = f\"{current_dir}/products.csv\"\n",
    "\n",
    "#order_items_rawRDD = sc.textFile(order_items_path)\n",
    "#products_rawRDD = sc.textFile(products_path)"
   ]
  },
  {
   "cell_type": "code",
   "execution_count": 8,
   "id": "53284549",
   "metadata": {},
   "outputs": [],
   "source": [
    "def read_products():\n",
    "    products_text_wrapper = open(products_path, \"r\", encoding=\"utf-8\")\n",
    "    products = products_text_wrapper.readlines()\n",
    "    product_id_name = {}\n",
    "    for line in products:\n",
    "        if \"productCategoryId\" not in line:\n",
    "            product_id = int(line.split(\",\")[0])\n",
    "            product_name = line.split(\",\")[2]  \n",
    "            product_id_name.update({product_id:product_name})\n",
    "    return product_id_name\n",
    "        "
   ]
  },
  {
   "cell_type": "code",
   "execution_count": 9,
   "id": "33628829",
   "metadata": {},
   "outputs": [],
   "source": [
    "products = read_products()"
   ]
  },
  {
   "cell_type": "code",
   "execution_count": 10,
   "id": "5288ec0e",
   "metadata": {},
   "outputs": [],
   "source": [
    "broadcast_products = sc.broadcast(products)"
   ]
  },
  {
   "cell_type": "code",
   "execution_count": 11,
   "id": "83271b76",
   "metadata": {},
   "outputs": [
    {
     "data": {
      "text/plain": [
       "\"Nike Men's Fly Shorts 2.0\""
      ]
     },
     "execution_count": 11,
     "metadata": {},
     "output_type": "execute_result"
    }
   ],
   "source": [
    "broadcast_products.value.get(114)"
   ]
  },
  {
   "cell_type": "code",
   "execution_count": 13,
   "id": "508abd9f",
   "metadata": {},
   "outputs": [
    {
     "name": "stderr",
     "output_type": "stream",
     "text": [
      "\r",
      "[Stage 0:>                                                          (0 + 1) / 1]\r",
      "\r",
      "                                                                                \r"
     ]
    },
    {
     "data": {
      "text/plain": [
       "['1,1,957,1,299.98,299.98',\n",
       " '2,2,1073,1,199.99,199.99',\n",
       " '3,2,502,5,250.0,50.0',\n",
       " '4,2,403,1,129.99,129.99',\n",
       " '5,4,897,2,49.98,24.99']"
      ]
     },
     "execution_count": 13,
     "metadata": {},
     "output_type": "execute_result"
    }
   ],
   "source": [
    "order_items_rdd = sc.textFile(order_items_path) \\\n",
    ".filter(lambda line: \"orderItemOrderId\" not in line)\n",
    "\n",
    "order_items_rdd.take(5)"
   ]
  },
  {
   "cell_type": "code",
   "execution_count": 14,
   "id": "be9b2549",
   "metadata": {},
   "outputs": [],
   "source": [
    "def make_order_items_pair_rdd(line: str):\n",
    "    orderItemProductId = int(line.split(\",\")[2])\n",
    "    orderItemSubTotal = float(line.split(\",\")[4])\n",
    "    return (orderItemProductId, orderItemSubTotal)"
   ]
  },
  {
   "cell_type": "code",
   "execution_count": 31,
   "id": "8f56bfdf",
   "metadata": {},
   "outputs": [
    {
     "data": {
      "text/plain": [
       "[(957, 299.98), (1073, 199.99), (502, 250.0), (403, 129.99), (897, 49.98)]"
      ]
     },
     "execution_count": 31,
     "metadata": {},
     "output_type": "execute_result"
    }
   ],
   "source": [
    "order_items_pairRDD = order_items_rdd.map(make_order_items_pair_rdd)\n",
    "order_items_pairRDD.take(5)"
   ]
  },
  {
   "cell_type": "code",
   "execution_count": 38,
   "id": "a3265c4e",
   "metadata": {},
   "outputs": [],
   "source": [
    "sorted_ordersRDD = order_items_pairRDD \\\n",
    ".reduceByKey(lambda x,y: (x+y)) \\\n",
    ".map(lambda x: (x[1], x[0])) \\\n",
    ".sortByKey(ascending=False) \\\n",
    ".map(lambda x: (x[1], x[0]))"
   ]
  },
  {
   "cell_type": "code",
   "execution_count": 39,
   "id": "fd627211",
   "metadata": {},
   "outputs": [
    {
     "data": {
      "text/plain": [
       "[(1004, 6929653.499999708),\n",
       " (365, 4421143.019999639),\n",
       " (957, 4118425.419999785),\n",
       " (191, 3667633.1999997487),\n",
       " (502, 3147800.0),\n",
       " (1073, 3099844.999999871),\n",
       " (403, 2891757.5399998166),\n",
       " (1014, 2888993.9399996493),\n",
       " (627, 1269082.649999932),\n",
       " (565, 67830.0)]"
      ]
     },
     "execution_count": 39,
     "metadata": {},
     "output_type": "execute_result"
    }
   ],
   "source": [
    "sorted_ordersRDD.take(10)"
   ]
  },
  {
   "cell_type": "code",
   "execution_count": 47,
   "id": "0078924a",
   "metadata": {},
   "outputs": [],
   "source": [
    "sorted_orders_with_product_name = sorted_ordersRDD \\\n",
    ".map(lambda x: (broadcast_products.value.get(x[0]), x[1]))"
   ]
  },
  {
   "cell_type": "code",
   "execution_count": 48,
   "id": "2502633a",
   "metadata": {},
   "outputs": [
    {
     "data": {
      "text/plain": [
       "[('Field & Stream Sportsman 16 Gun Fire Safe', 6929653.499999708),\n",
       " ('Perfect Fitness Perfect Rip Deck', 4421143.019999639),\n",
       " (\"Diamondback Women's Serene Classic Comfort Bi\", 4118425.419999785),\n",
       " (\"Nike Men's Free 5.0+ Running Shoe\", 3667633.1999997487),\n",
       " (\"Nike Men's Dri-FIT Victory Golf Polo\", 3147800.0),\n",
       " ('Pelican Sunstream 100 Kayak', 3099844.999999871),\n",
       " (\"Nike Men's CJ Elite 2 TD Football Cleat\", 2891757.5399998166),\n",
       " (\"O'Brien Men's Neoprene Life Vest\", 2888993.9399996493),\n",
       " (\"Under Armour Girls' Toddler Spine Surge Runni\", 1269082.649999932),\n",
       " ('adidas Youth Germany Black/Red Away Match Soc', 67830.0)]"
      ]
     },
     "execution_count": 48,
     "metadata": {},
     "output_type": "execute_result"
    }
   ],
   "source": [
    "sorted_orders_with_product_name.take(10)"
   ]
  },
  {
   "cell_type": "code",
   "execution_count": null,
   "id": "97583892",
   "metadata": {},
   "outputs": [],
   "source": []
  }
 ],
 "metadata": {
  "kernelspec": {
   "display_name": "Python 3 (ipykernel)",
   "language": "python",
   "name": "python3"
  },
  "language_info": {
   "codemirror_mode": {
    "name": "ipython",
    "version": 3
   },
   "file_extension": ".py",
   "mimetype": "text/x-python",
   "name": "python",
   "nbconvert_exporter": "python",
   "pygments_lexer": "ipython3",
   "version": "3.10.6"
  }
 },
 "nbformat": 4,
 "nbformat_minor": 5
}
