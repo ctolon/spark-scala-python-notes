{
 "cells": [
  {
   "cell_type": "code",
   "execution_count": 5,
   "id": "bf6df688",
   "metadata": {},
   "outputs": [],
   "source": [
    "from pyspark import SparkContext"
   ]
  },
  {
   "cell_type": "code",
   "execution_count": 6,
   "id": "35105af2",
   "metadata": {},
   "outputs": [
    {
     "name": "stdout",
     "output_type": "stream",
     "text": [
      "23/04/14 01:15:08 WARN Utils: Service 'SparkUI' could not bind on port 4040. Attempting port 4041.\n"
     ]
    }
   ],
   "source": [
    "sc = SparkContext(\"local[*]\", \"map_flatMap_example\").getOrCreate()"
   ]
  },
  {
   "cell_type": "code",
   "execution_count": 8,
   "id": "7054fbc8",
   "metadata": {},
   "outputs": [],
   "source": [
    "# Get Environment Path Variables\n",
    "HOME_PATH = os.environ[\"HOME\"]\n",
    "CURRENT_PATH = os.path.abspath(os.getcwd())"
   ]
  },
  {
   "cell_type": "code",
   "execution_count": 12,
   "id": "fdff173e",
   "metadata": {},
   "outputs": [
    {
     "name": "stdout",
     "output_type": "stream",
     "text": [
      "File Found in path: /home/ctolon/spark-scala-python-notes/pyspark/mini_projects/2_map_flatMap_example/simple_data.csv\n"
     ]
    }
   ],
   "source": [
    "file_name = \"simple_data.csv\"\n",
    "DATA_PATH = CURRENT_PATH + '/' + file_name\n",
    "\n",
    "if os.path.exists(DATA_PATH):\n",
    "    print(f\"File Found in path: {DATA_PATH}\")\n",
    "else:\n",
    "    print(f\"File Not Found! check your file path: {DATA_PATH}\")"
   ]
  },
  {
   "cell_type": "code",
   "execution_count": 13,
   "id": "a7a40bfa",
   "metadata": {},
   "outputs": [],
   "source": [
    "humans_RDD = sc.textFile(DATA_PATH)"
   ]
  },
  {
   "cell_type": "code",
   "execution_count": 14,
   "id": "0ed64b5b",
   "metadata": {},
   "outputs": [],
   "source": [
    "humans_RDD2 = humans_RDD.filter(lambda x: \"sirano\" not in x)"
   ]
  },
  {
   "cell_type": "code",
   "execution_count": 15,
   "id": "a9cfc33b",
   "metadata": {},
   "outputs": [
    {
     "data": {
      "text/plain": [
       "['1,Cemal,35,Isci,Ankara,3500',\n",
       " '2,Ceyda,42,Memur,Kayseri,4200',\n",
       " '3,Timur,30,Müzisyen,Istanbul,9000',\n",
       " '4,Burcu,29,Pazarlamaci,Ankara,4200',\n",
       " '5,Yasemin,23,Pazarlamaci,Bursa,4800']"
      ]
     },
     "execution_count": 15,
     "metadata": {},
     "output_type": "execute_result"
    }
   ],
   "source": [
    "humans_RDD2.take(5)"
   ]
  },
  {
   "cell_type": "code",
   "execution_count": 16,
   "id": "d337bac8",
   "metadata": {},
   "outputs": [
    {
     "data": {
      "text/plain": [
       "['1,CEMAL,35,ISCI,ANKARA,3500',\n",
       " '2,CEYDA,42,MEMUR,KAYSERI,4200',\n",
       " '3,TIMUR,30,MÜZISYEN,ISTANBUL,9000',\n",
       " '4,BURCU,29,PAZARLAMACI,ANKARA,4200',\n",
       " '5,YASEMIN,23,PAZARLAMACI,BURSA,4800']"
      ]
     },
     "execution_count": 16,
     "metadata": {},
     "output_type": "execute_result"
    }
   ],
   "source": [
    "humans_RDD2.map(lambda x: x.upper()).take(5)"
   ]
  },
  {
   "cell_type": "code",
   "execution_count": 18,
   "id": "5f0a0624",
   "metadata": {},
   "outputs": [
    {
     "data": {
      "text/plain": [
       "['1', ',', 'C', 'E', 'M', 'A', 'L', ',', '3', '5', ',', 'I', 'S', 'C', 'I']"
      ]
     },
     "execution_count": 18,
     "metadata": {},
     "output_type": "execute_result"
    }
   ],
   "source": [
    "humans_RDD2.flatMap(lambda x: x.upper()).take(15)"
   ]
  },
  {
   "cell_type": "code",
   "execution_count": 19,
   "id": "f2bc5b6f",
   "metadata": {},
   "outputs": [
    {
     "data": {
      "text/plain": [
       "['1',\n",
       " 'CEMAL',\n",
       " '35',\n",
       " 'ISCI',\n",
       " 'ANKARA',\n",
       " '3500',\n",
       " '2',\n",
       " 'CEYDA',\n",
       " '42',\n",
       " 'MEMUR',\n",
       " 'KAYSERI',\n",
       " '4200',\n",
       " '3',\n",
       " 'TIMUR',\n",
       " '30']"
      ]
     },
     "execution_count": 19,
     "metadata": {},
     "output_type": "execute_result"
    }
   ],
   "source": [
    "humans_RDD2.flatMap(lambda x: x.split(\",\")).map(lambda x: x.upper()).take(15)"
   ]
  }
 ],
 "metadata": {
  "kernelspec": {
   "display_name": "Python 3 (ipykernel)",
   "language": "python",
   "name": "python3"
  },
  "language_info": {
   "codemirror_mode": {
    "name": "ipython",
    "version": 3
   },
   "file_extension": ".py",
   "mimetype": "text/x-python",
   "name": "python",
   "nbconvert_exporter": "python",
   "pygments_lexer": "ipython3",
   "version": "3.10.6"
  }
 },
 "nbformat": 4,
 "nbformat_minor": 5
}
