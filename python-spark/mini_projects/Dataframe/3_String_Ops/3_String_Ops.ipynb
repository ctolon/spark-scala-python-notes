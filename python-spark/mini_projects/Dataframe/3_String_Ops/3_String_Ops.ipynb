{
 "cells": [
  {
   "cell_type": "code",
   "execution_count": 8,
   "id": "210c519d",
   "metadata": {},
   "outputs": [],
   "source": [
    "from pyspark.sql import SparkSession\n",
    "from pyspark.sql.functions import *"
   ]
  },
  {
   "cell_type": "code",
   "execution_count": 9,
   "id": "ac51f96e",
   "metadata": {},
   "outputs": [],
   "source": [
    "spark = SparkSession.builder \\\n",
    ".appName(\"df_fundamentals\") \\\n",
    ".config(\"spark.driver.memory\", \"2g\") \\\n",
    ".config(\"spark.executor.memory\", \"4g\") \\\n",
    ".master(\"local[*]\") \\\n",
    ".getOrCreate()"
   ]
  },
  {
   "cell_type": "code",
   "execution_count": 10,
   "id": "5002312f",
   "metadata": {},
   "outputs": [],
   "source": [
    "sc = spark.sparkContext\n",
    "sc.setLogLevel(\"ERROR\")"
   ]
  },
  {
   "cell_type": "code",
   "execution_count": 13,
   "id": "50690c2a",
   "metadata": {},
   "outputs": [],
   "source": [
    "df = spark.read \\\n",
    ".option(\"sep\", \",\") \\\n",
    ".option(\"header\", \"true\") \\\n",
    ".option(\"inferSchema\", \"true\") \\\n",
    ".csv(f\"{os.getcwd()}/simple_dirty_data.csv\")"
   ]
  },
  {
   "cell_type": "code",
   "execution_count": 14,
   "id": "06c4aa04",
   "metadata": {},
   "outputs": [
    {
     "name": "stdout",
     "output_type": "stream",
     "text": [
      "+------+---------+---+--------+-----------+-----------+-----------+--------------------+\n",
      "|sirano|     isim|yas|cinsiyet|     meslek|      sehir|aylik_gelir|            mal_mulk|\n",
      "+------+---------+---+--------+-----------+-----------+-----------+--------------------+\n",
      "|     1|    Cemal| 35|       E|       Isci|     Ankara|     3500.0|               araba|\n",
      "|     2|   ceyda | 42|       K|      Memur|    Kayseri|     4200.0|            araba|ev|\n",
      "|     3|    Timur| 30|    null|   Müzüsyen|Istanbul   |     9000.0|     araba|ev|yazlık|\n",
      "|     4|   Burcu | 29|       K|Pazarlamacı|     Ankara|     4200.0|               araba|\n",
      "|     5|  Yasemin| 23|       K|Pazarlamaci|      Bursa|     4800.0|               araba|\n",
      "|     6|      Ali| 33|       E|      Memur|     Ankara|     4250.0|                  ev|\n",
      "|     7|    Dilek| 29|       K|Pazarlamaci|   Istanbul|     7300.0|        araba|yazlık|\n",
      "|     8|    Murat| 31|       E|   Müzüsyen|   Istanbul|    12000.0|araba|ev|dükkan|y...|\n",
      "|     9|    Ahmet| 33|       E|     Doktor|     Ankara|   180000.0|     araba|ev|yazlık|\n",
      "|    10| Muhittin| 46|       E|     Berber|   Istanbul|    12000.0|     araba|ev|dükkan|\n",
      "|    11| Hicaziye| 47|       K| Tuhafiyeci|       null|        4.8|              dükkan|\n",
      "|    12|    Harun| 43|       E|    Tornacı|    Ankara |     4200.0|               araba|\n",
      "|    13|    hakkı| 33|       E|      memur|     Çorum |     3750.0|                  ev|\n",
      "|    14|  Gülizar| 37|       K|     Doktor|      İzmir|    14250.0|               araba|\n",
      "|    15|   Şehmuz| 41|       E|   Müzisyen|     Ankara|     8700.0|               araba|\n",
      "+------+---------+---+--------+-----------+-----------+-----------+--------------------+\n",
      "\n"
     ]
    }
   ],
   "source": [
    "df.show()"
   ]
  },
  {
   "cell_type": "code",
   "execution_count": 17,
   "id": "23c2a4c2",
   "metadata": {},
   "outputs": [
    {
     "name": "stdout",
     "output_type": "stream",
     "text": [
      "+------+--------+---+--------+-----------+-----------+-----------+----------------------+----------------------+\n",
      "|sirano|isim    |yas|cinsiyet|meslek     |sehir      |aylik_gelir|mal_mulk              |meslek_sehir          |\n",
      "+------+--------+---+--------+-----------+-----------+-----------+----------------------+----------------------+\n",
      "|1     |Cemal   |35 |E       |Isci       |Ankara     |3500.0     |araba                 |Isci-Ankara           |\n",
      "|2     |ceyda   |42 |K       |Memur      |Kayseri    |4200.0     |araba|ev              |Memur-Kayseri         |\n",
      "|3     |Timur   |30 |null    |Müzüsyen   |Istanbul   |9000.0     |araba|ev|yazlık       |Müzüsyen-Istanbul     |\n",
      "|4     |Burcu   |29 |K       |Pazarlamacı|    Ankara |4200.0     |araba                 |Pazarlamacı-    Ankara|\n",
      "|5     |Yasemin |23 |K       |Pazarlamaci|Bursa      |4800.0     |araba                 |Pazarlamaci-Bursa     |\n",
      "|6     | Ali    |33 |E       |Memur      |Ankara     |4250.0     |ev                    |Memur-Ankara          |\n",
      "|7     |Dilek   |29 |K       |Pazarlamaci|Istanbul   |7300.0     |araba|yazlık          |Pazarlamaci-Istanbul  |\n",
      "|8     |Murat   |31 |E       |Müzüsyen   |Istanbul   |12000.0    |araba|ev|dükkan|yazlık|Müzüsyen-Istanbul     |\n",
      "|9     |Ahmet   |33 |E       |Doktor     |Ankara     |180000.0   |araba|ev|yazlık       |Doktor-Ankara         |\n",
      "|10    |Muhittin|46 |E       |Berber     | Istanbul  |12000.0    |araba|ev|dükkan       |Berber- Istanbul      |\n",
      "+------+--------+---+--------+-----------+-----------+-----------+----------------------+----------------------+\n",
      "only showing top 10 rows\n",
      "\n"
     ]
    }
   ],
   "source": [
    "df_concat = df \\\n",
    ".withColumn(\"meslek_sehir\", concat(col(\"meslek\"), lit(\"-\"), col(\"sehir\")))\n",
    "\n",
    "df_concat.show(n=10, truncate=False)"
   ]
  },
  {
   "cell_type": "code",
   "execution_count": 18,
   "id": "92e1f439",
   "metadata": {},
   "outputs": [],
   "source": [
    "df_num_format = df \\\n",
    ".withColumn(\"aylik_gelir_format\", format_number(col(\"aylik_gelir\"), 2))"
   ]
  },
  {
   "cell_type": "code",
   "execution_count": 19,
   "id": "03a55c76",
   "metadata": {},
   "outputs": [
    {
     "name": "stdout",
     "output_type": "stream",
     "text": [
      "+------+---------+---+--------+-----------+-----------+-----------+--------------------+------------------+\n",
      "|sirano|     isim|yas|cinsiyet|     meslek|      sehir|aylik_gelir|            mal_mulk|aylik_gelir_format|\n",
      "+------+---------+---+--------+-----------+-----------+-----------+--------------------+------------------+\n",
      "|     1|    Cemal| 35|       E|       Isci|     Ankara|     3500.0|               araba|          3,500.00|\n",
      "|     2|   ceyda | 42|       K|      Memur|    Kayseri|     4200.0|            araba|ev|          4,200.00|\n",
      "|     3|    Timur| 30|    null|   Müzüsyen|Istanbul   |     9000.0|     araba|ev|yazlık|          9,000.00|\n",
      "|     4|   Burcu | 29|       K|Pazarlamacı|     Ankara|     4200.0|               araba|          4,200.00|\n",
      "|     5|  Yasemin| 23|       K|Pazarlamaci|      Bursa|     4800.0|               araba|          4,800.00|\n",
      "|     6|      Ali| 33|       E|      Memur|     Ankara|     4250.0|                  ev|          4,250.00|\n",
      "|     7|    Dilek| 29|       K|Pazarlamaci|   Istanbul|     7300.0|        araba|yazlık|          7,300.00|\n",
      "|     8|    Murat| 31|       E|   Müzüsyen|   Istanbul|    12000.0|araba|ev|dükkan|y...|         12,000.00|\n",
      "|     9|    Ahmet| 33|       E|     Doktor|     Ankara|   180000.0|     araba|ev|yazlık|        180,000.00|\n",
      "|    10| Muhittin| 46|       E|     Berber|   Istanbul|    12000.0|     araba|ev|dükkan|         12,000.00|\n",
      "|    11| Hicaziye| 47|       K| Tuhafiyeci|       null|        4.8|              dükkan|              4.80|\n",
      "|    12|    Harun| 43|       E|    Tornacı|    Ankara |     4200.0|               araba|          4,200.00|\n",
      "|    13|    hakkı| 33|       E|      memur|     Çorum |     3750.0|                  ev|          3,750.00|\n",
      "|    14|  Gülizar| 37|       K|     Doktor|      İzmir|    14250.0|               araba|         14,250.00|\n",
      "|    15|   Şehmuz| 41|       E|   Müzisyen|     Ankara|     8700.0|               araba|          8,700.00|\n",
      "+------+---------+---+--------+-----------+-----------+-----------+--------------------+------------------+\n",
      "\n"
     ]
    }
   ],
   "source": [
    "df_num_format.show()"
   ]
  },
  {
   "cell_type": "code",
   "execution_count": 26,
   "id": "d8977869",
   "metadata": {},
   "outputs": [],
   "source": [
    "df_lower = df \\\n",
    ".withColumn(\"meslek_lower\", lower(col(\"meslek\"))) \\\n",
    ".withColumn(\"isim_lower\", initcap(col(\"isim\"))) \\\n",
    ".withColumn(\"sehir_length\", length(col(\"sehir\")))"
   ]
  },
  {
   "cell_type": "code",
   "execution_count": 27,
   "id": "21dbc908",
   "metadata": {},
   "outputs": [
    {
     "name": "stdout",
     "output_type": "stream",
     "text": [
      "+------+-------+---+--------+-----------+-----------+-----------+---------------+------------+----------+------------+\n",
      "|sirano|isim   |yas|cinsiyet|meslek     |sehir      |aylik_gelir|mal_mulk       |meslek_lower|isim_lower|sehir_length|\n",
      "+------+-------+---+--------+-----------+-----------+-----------+---------------+------------+----------+------------+\n",
      "|1     |Cemal  |35 |E       |Isci       |Ankara     |3500.0     |araba          |isci        |Cemal     |6           |\n",
      "|2     |ceyda  |42 |K       |Memur      |Kayseri    |4200.0     |araba|ev       |memur       |Ceyda     |7           |\n",
      "|3     |Timur  |30 |null    |Müzüsyen   |Istanbul   |9000.0     |araba|ev|yazlık|müzüsyen    |Timur     |11          |\n",
      "|4     |Burcu  |29 |K       |Pazarlamacı|    Ankara |4200.0     |araba          |pazarlamacı |Burcu     |10          |\n",
      "|5     |Yasemin|23 |K       |Pazarlamaci|Bursa      |4800.0     |araba          |pazarlamaci |Yasemin   |5           |\n",
      "+------+-------+---+--------+-----------+-----------+-----------+---------------+------------+----------+------------+\n",
      "only showing top 5 rows\n",
      "\n"
     ]
    }
   ],
   "source": [
    "df_lower.show(n=5, truncate=False)"
   ]
  },
  {
   "cell_type": "code",
   "execution_count": 28,
   "id": "e1351095",
   "metadata": {},
   "outputs": [],
   "source": [
    "df_trim = df \\\n",
    ".withColumn(\"sehir_ltrim\", ltrim(col(\"sehir\"))) \\\n",
    ".withColumn(\"sehir_rtrim\", rtrim(col(\"sehir\"))) \\\n",
    ".withColumn(\"sehir_trim\", trim(col(\"sehir\")))"
   ]
  },
  {
   "cell_type": "code",
   "execution_count": 29,
   "id": "5e2c4b2f",
   "metadata": {},
   "outputs": [
    {
     "name": "stdout",
     "output_type": "stream",
     "text": [
      "+------+--------+---+--------+-----------+-----------+-----------+----------------------+-----------+-----------+----------+\n",
      "|sirano|isim    |yas|cinsiyet|meslek     |sehir      |aylik_gelir|mal_mulk              |sehir_ltrim|sehir_rtrim|sehir_trim|\n",
      "+------+--------+---+--------+-----------+-----------+-----------+----------------------+-----------+-----------+----------+\n",
      "|1     |Cemal   |35 |E       |Isci       |Ankara     |3500.0     |araba                 |Ankara     |Ankara     |Ankara    |\n",
      "|2     |ceyda   |42 |K       |Memur      |Kayseri    |4200.0     |araba|ev              |Kayseri    |Kayseri    |Kayseri   |\n",
      "|3     |Timur   |30 |null    |Müzüsyen   |Istanbul   |9000.0     |araba|ev|yazlık       |Istanbul   |Istanbul   |Istanbul  |\n",
      "|4     |Burcu   |29 |K       |Pazarlamacı|    Ankara |4200.0     |araba                 |Ankara     |    Ankara |Ankara    |\n",
      "|5     |Yasemin |23 |K       |Pazarlamaci|Bursa      |4800.0     |araba                 |Bursa      |Bursa      |Bursa     |\n",
      "|6     | Ali    |33 |E       |Memur      |Ankara     |4250.0     |ev                    |Ankara     |Ankara     |Ankara    |\n",
      "|7     |Dilek   |29 |K       |Pazarlamaci|Istanbul   |7300.0     |araba|yazlık          |Istanbul   |Istanbul   |Istanbul  |\n",
      "|8     |Murat   |31 |E       |Müzüsyen   |Istanbul   |12000.0    |araba|ev|dükkan|yazlık|Istanbul   |Istanbul   |Istanbul  |\n",
      "|9     |Ahmet   |33 |E       |Doktor     |Ankara     |180000.0   |araba|ev|yazlık       |Ankara     |Ankara     |Ankara    |\n",
      "|10    |Muhittin|46 |E       |Berber     | Istanbul  |12000.0    |araba|ev|dükkan       |Istanbul   | Istanbul  |Istanbul  |\n",
      "+------+--------+---+--------+-----------+-----------+-----------+----------------------+-----------+-----------+----------+\n",
      "only showing top 10 rows\n",
      "\n"
     ]
    }
   ],
   "source": [
    "df_trim.show(n=10, truncate=False)"
   ]
  },
  {
   "cell_type": "code",
   "execution_count": 34,
   "id": "38e2b128",
   "metadata": {},
   "outputs": [],
   "source": [
    "df_replace = df \\\n",
    ".withColumn(\"sehir_ist\", regexp_replace(col(\"sehir\"), \"Ist\", \"İST\")) \\\n",
    ".withColumn(\"mal_mulk_split\", split(col(\"mal_mulk\"), \"\\\\|\")) \\\n",
    ".withColumn(\"mal_mulk_first\", col(\"mal_mulk_split\")[0]) "
   ]
  },
  {
   "cell_type": "code",
   "execution_count": 35,
   "id": "943c64a8",
   "metadata": {},
   "outputs": [
    {
     "name": "stdout",
     "output_type": "stream",
     "text": [
      "+------+--------+---+--------+-----------+-----------+-----------+----------------------+-----------+---------------------------+--------------+\n",
      "|sirano|isim    |yas|cinsiyet|meslek     |sehir      |aylik_gelir|mal_mulk              |sehir_ist  |mal_mulk_split             |mal_mulk_first|\n",
      "+------+--------+---+--------+-----------+-----------+-----------+----------------------+-----------+---------------------------+--------------+\n",
      "|1     |Cemal   |35 |E       |Isci       |Ankara     |3500.0     |araba                 |Ankara     |[araba]                    |araba         |\n",
      "|2     |ceyda   |42 |K       |Memur      |Kayseri    |4200.0     |araba|ev              |Kayseri    |[araba, ev]                |araba         |\n",
      "|3     |Timur   |30 |null    |Müzüsyen   |Istanbul   |9000.0     |araba|ev|yazlık       |İSTanbul   |[araba, ev, yazlık]        |araba         |\n",
      "|4     |Burcu   |29 |K       |Pazarlamacı|    Ankara |4200.0     |araba                 |    Ankara |[araba]                    |araba         |\n",
      "|5     |Yasemin |23 |K       |Pazarlamaci|Bursa      |4800.0     |araba                 |Bursa      |[araba]                    |araba         |\n",
      "|6     | Ali    |33 |E       |Memur      |Ankara     |4250.0     |ev                    |Ankara     |[ev]                       |ev            |\n",
      "|7     |Dilek   |29 |K       |Pazarlamaci|Istanbul   |7300.0     |araba|yazlık          |İSTanbul   |[araba, yazlık]            |araba         |\n",
      "|8     |Murat   |31 |E       |Müzüsyen   |Istanbul   |12000.0    |araba|ev|dükkan|yazlık|İSTanbul   |[araba, ev, dükkan, yazlık]|araba         |\n",
      "|9     |Ahmet   |33 |E       |Doktor     |Ankara     |180000.0   |araba|ev|yazlık       |Ankara     |[araba, ev, yazlık]        |araba         |\n",
      "|10    |Muhittin|46 |E       |Berber     | Istanbul  |12000.0    |araba|ev|dükkan       | İSTanbul  |[araba, ev, dükkan]        |araba         |\n",
      "+------+--------+---+--------+-----------+-----------+-----------+----------------------+-----------+---------------------------+--------------+\n",
      "only showing top 10 rows\n",
      "\n"
     ]
    }
   ],
   "source": [
    "df_replace.show(n=10, truncate=False)"
   ]
  },
  {
   "cell_type": "code",
   "execution_count": 36,
   "id": "f4235a81",
   "metadata": {},
   "outputs": [
    {
     "name": "stdout",
     "output_type": "stream",
     "text": [
      "root\n",
      " |-- sirano: integer (nullable = true)\n",
      " |-- isim: string (nullable = true)\n",
      " |-- yas: integer (nullable = true)\n",
      " |-- cinsiyet: string (nullable = true)\n",
      " |-- meslek: string (nullable = true)\n",
      " |-- sehir: string (nullable = true)\n",
      " |-- aylik_gelir: double (nullable = true)\n",
      " |-- mal_mulk: string (nullable = true)\n",
      " |-- sehir_ist: string (nullable = true)\n",
      " |-- mal_mulk_split: array (nullable = true)\n",
      " |    |-- element: string (containsNull = false)\n",
      " |-- mal_mulk_first: string (nullable = true)\n",
      "\n"
     ]
    }
   ],
   "source": [
    "df_replace.printSchema()"
   ]
  },
  {
   "cell_type": "code",
   "execution_count": null,
   "id": "17a5f3f0",
   "metadata": {},
   "outputs": [],
   "source": []
  }
 ],
 "metadata": {
  "kernelspec": {
   "display_name": "Python 3 (ipykernel)",
   "language": "python",
   "name": "python3"
  },
  "language_info": {
   "codemirror_mode": {
    "name": "ipython",
    "version": 3
   },
   "file_extension": ".py",
   "mimetype": "text/x-python",
   "name": "python",
   "nbconvert_exporter": "python",
   "pygments_lexer": "ipython3",
   "version": "3.10.6"
  }
 },
 "nbformat": 4,
 "nbformat_minor": 5
}
