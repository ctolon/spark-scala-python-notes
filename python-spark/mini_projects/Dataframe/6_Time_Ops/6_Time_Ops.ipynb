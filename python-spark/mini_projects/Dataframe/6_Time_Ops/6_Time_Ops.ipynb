{
 "cells": [
  {
   "cell_type": "code",
   "execution_count": null,
   "id": "096d21e6",
   "metadata": {},
   "outputs": [],
   "source": []
  },
  {
   "cell_type": "code",
   "execution_count": 1,
   "id": "ac83e42e",
   "metadata": {},
   "outputs": [],
   "source": [
    "from pyspark.sql import SparkSession\n",
    "import os"
   ]
  },
  {
   "cell_type": "code",
   "execution_count": 12,
   "id": "1d92efc3",
   "metadata": {},
   "outputs": [],
   "source": [
    "spark = SparkSession.builder \\\n",
    ".master(\"local[4]\") \\\n",
    ".appName(\"TimeOps\") \\\n",
    ".config(\"spark.executor.memory\",\"4g\") \\\n",
    ".config(\"spark.driver.memory\",\"2g\") \\\n",
    ".config(\"spark.sql.legacy.timeParserPolicy\", \"LEGACY\") \\\n",
    ".getOrCreate()"
   ]
  },
  {
   "cell_type": "code",
   "execution_count": 13,
   "id": "7275c936",
   "metadata": {},
   "outputs": [],
   "source": [
    "sc = spark.sparkContext\n",
    "sc.setLogLevel(\"ERROR\")"
   ]
  },
  {
   "cell_type": "code",
   "execution_count": 14,
   "id": "db04b9ac",
   "metadata": {},
   "outputs": [],
   "source": [
    "df = spark.read \\\n",
    ".option(\"header\", \"True\") \\\n",
    ".option(\"inferSchema\", \"True\") \\\n",
    ".option(\"sep\", \";\") \\\n",
    ".csv(f\"{os.getcwd()}/OnlineRetail.csv\")"
   ]
  },
  {
   "cell_type": "code",
   "execution_count": 15,
   "id": "6aa3d261",
   "metadata": {},
   "outputs": [
    {
     "name": "stdout",
     "output_type": "stream",
     "text": [
      "+---------+---------+--------------------+--------+---------------+---------+----------+--------------+\n",
      "|InvoiceNo|StockCode|         Description|Quantity|    InvoiceDate|UnitPrice|CustomerID|       Country|\n",
      "+---------+---------+--------------------+--------+---------------+---------+----------+--------------+\n",
      "|   536365|   85123A|WHITE HANGING HEA...|       6|1.12.2010 08:26|     2,55|     17850|United Kingdom|\n",
      "|   536365|    71053| WHITE METAL LANTERN|       6|1.12.2010 08:26|     3,39|     17850|United Kingdom|\n",
      "|   536365|   84406B|CREAM CUPID HEART...|       8|1.12.2010 08:26|     2,75|     17850|United Kingdom|\n",
      "|   536365|   84029G|KNITTED UNION FLA...|       6|1.12.2010 08:26|     3,39|     17850|United Kingdom|\n",
      "|   536365|   84029E|RED WOOLLY HOTTIE...|       6|1.12.2010 08:26|     3,39|     17850|United Kingdom|\n",
      "+---------+---------+--------------------+--------+---------------+---------+----------+--------------+\n",
      "only showing top 5 rows\n",
      "\n"
     ]
    }
   ],
   "source": [
    "df.show(5)"
   ]
  },
  {
   "cell_type": "code",
   "execution_count": 16,
   "id": "b6efb2fc",
   "metadata": {},
   "outputs": [
    {
     "name": "stdout",
     "output_type": "stream",
     "text": [
      "+---------+---------+--------------------+--------+---------------+---------+----------+--------------+\n",
      "|InvoiceNo|StockCode|         Description|Quantity|    InvoiceDate|UnitPrice|CustomerID|       Country|\n",
      "+---------+---------+--------------------+--------+---------------+---------+----------+--------------+\n",
      "|   536365|   85123A|WHITE HANGING HEA...|       6|1.12.2010 08:26|     2,55|     17850|United Kingdom|\n",
      "|   536365|    71053| WHITE METAL LANTERN|       6|1.12.2010 08:26|     3,39|     17850|United Kingdom|\n",
      "|   536365|   84406B|CREAM CUPID HEART...|       8|1.12.2010 08:26|     2,75|     17850|United Kingdom|\n",
      "|   536365|   84029G|KNITTED UNION FLA...|       6|1.12.2010 08:26|     3,39|     17850|United Kingdom|\n",
      "|   536365|   84029E|RED WOOLLY HOTTIE...|       6|1.12.2010 08:26|     3,39|     17850|United Kingdom|\n",
      "|   536365|    22752|SET 7 BABUSHKA NE...|       2|1.12.2010 08:26|     7,65|     17850|United Kingdom|\n",
      "|   536365|    21730|GLASS STAR FROSTE...|       6|1.12.2010 08:26|     4,25|     17850|United Kingdom|\n",
      "|   536366|    22633|HAND WARMER UNION...|       6|1.12.2010 08:28|     1,85|     17850|United Kingdom|\n",
      "|   536366|    22632|HAND WARMER RED P...|       6|1.12.2010 08:28|     1,85|     17850|United Kingdom|\n",
      "|   536367|    84879|ASSORTED COLOUR B...|      32|1.12.2010 08:34|     1,69|     13047|United Kingdom|\n",
      "|   536367|    22745|POPPY'S PLAYHOUSE...|       6|1.12.2010 08:34|      2,1|     13047|United Kingdom|\n",
      "|   536367|    22748|POPPY'S PLAYHOUSE...|       6|1.12.2010 08:34|      2,1|     13047|United Kingdom|\n",
      "|   536367|    22749|FELTCRAFT PRINCES...|       8|1.12.2010 08:34|     3,75|     13047|United Kingdom|\n",
      "|   536367|    22310|IVORY KNITTED MUG...|       6|1.12.2010 08:34|     1,65|     13047|United Kingdom|\n",
      "|   536367|    84969|BOX OF 6 ASSORTED...|       6|1.12.2010 08:34|     4,25|     13047|United Kingdom|\n",
      "+---------+---------+--------------------+--------+---------------+---------+----------+--------------+\n",
      "only showing top 15 rows\n",
      "\n"
     ]
    }
   ],
   "source": [
    "df.show(15)"
   ]
  },
  {
   "cell_type": "code",
   "execution_count": 17,
   "id": "6fa94910",
   "metadata": {},
   "outputs": [],
   "source": [
    "current_format = 'dd.MM.yyyy HH:mm'"
   ]
  },
  {
   "cell_type": "code",
   "execution_count": 18,
   "id": "adefab49",
   "metadata": {},
   "outputs": [
    {
     "name": "stdout",
     "output_type": "stream",
     "text": [
      "+---------+---------+--------------------+--------+---------------+---------+----------+--------------+------------+-------------------+\n",
      "|InvoiceNo|StockCode|         Description|Quantity|    InvoiceDate|UnitPrice|CustomerID|       Country|normal_tarih|        standart_ts|\n",
      "+---------+---------+--------------------+--------+---------------+---------+----------+--------------+------------+-------------------+\n",
      "|   536365|   85123A|WHITE HANGING HEA...|       6|1.12.2010 08:26|     2,55|     17850|United Kingdom|  2010-12-01|2010-12-01 08:26:00|\n",
      "|   536365|    71053| WHITE METAL LANTERN|       6|1.12.2010 08:26|     3,39|     17850|United Kingdom|  2010-12-01|2010-12-01 08:26:00|\n",
      "|   536365|   84406B|CREAM CUPID HEART...|       8|1.12.2010 08:26|     2,75|     17850|United Kingdom|  2010-12-01|2010-12-01 08:26:00|\n",
      "|   536365|   84029G|KNITTED UNION FLA...|       6|1.12.2010 08:26|     3,39|     17850|United Kingdom|  2010-12-01|2010-12-01 08:26:00|\n",
      "|   536365|   84029E|RED WOOLLY HOTTIE...|       6|1.12.2010 08:26|     3,39|     17850|United Kingdom|  2010-12-01|2010-12-01 08:26:00|\n",
      "|   536365|    22752|SET 7 BABUSHKA NE...|       2|1.12.2010 08:26|     7,65|     17850|United Kingdom|  2010-12-01|2010-12-01 08:26:00|\n",
      "|   536365|    21730|GLASS STAR FROSTE...|       6|1.12.2010 08:26|     4,25|     17850|United Kingdom|  2010-12-01|2010-12-01 08:26:00|\n",
      "|   536366|    22633|HAND WARMER UNION...|       6|1.12.2010 08:28|     1,85|     17850|United Kingdom|  2010-12-01|2010-12-01 08:28:00|\n",
      "|   536366|    22632|HAND WARMER RED P...|       6|1.12.2010 08:28|     1,85|     17850|United Kingdom|  2010-12-01|2010-12-01 08:28:00|\n",
      "|   536367|    84879|ASSORTED COLOUR B...|      32|1.12.2010 08:34|     1,69|     13047|United Kingdom|  2010-12-01|2010-12-01 08:34:00|\n",
      "+---------+---------+--------------------+--------+---------------+---------+----------+--------------+------------+-------------------+\n",
      "only showing top 10 rows\n",
      "\n"
     ]
    }
   ],
   "source": [
    "from pyspark.sql import functions as F\n",
    "\n",
    "df2 = df.withColumn(\"InvoiceDate\", F.trim(F.col(\"InvoiceDate\"))) \\\n",
    ".withColumn(\"normal_tarih\", F.to_date(F.col(\"InvoiceDate\"), current_format)) \\\n",
    ".withColumn(\"standart_ts\", F.to_timestamp(F.col(\"InvoiceDate\"), current_format)) \\\n",
    "\n",
    "df2.show(10)"
   ]
  },
  {
   "cell_type": "code",
   "execution_count": 19,
   "id": "66c08242",
   "metadata": {},
   "outputs": [
    {
     "name": "stdout",
     "output_type": "stream",
     "text": [
      "+---------+---------+--------------------+--------+---------------+---------+----------+--------------+------------+-------------------+-------------------+-------------------+----------+\n",
      "|InvoiceNo|StockCode|         Description|Quantity|    InvoiceDate|UnitPrice|CustomerID|       Country|normal_tarih|        standart_ts|               TSTR|              TSENG| unix_time|\n",
      "+---------+---------+--------------------+--------+---------------+---------+----------+--------------+------------+-------------------+-------------------+-------------------+----------+\n",
      "|   536365|   85123A|WHITE HANGING HEA...|       6|1.12.2010 08:26|     2,55|     17850|United Kingdom|  2010-12-01|2010-12-01 08:26:00|01/12/2010 08:26:00|12-01-2010 08:26:00|1291184760|\n",
      "|   536365|    71053| WHITE METAL LANTERN|       6|1.12.2010 08:26|     3,39|     17850|United Kingdom|  2010-12-01|2010-12-01 08:26:00|01/12/2010 08:26:00|12-01-2010 08:26:00|1291184760|\n",
      "|   536365|   84406B|CREAM CUPID HEART...|       8|1.12.2010 08:26|     2,75|     17850|United Kingdom|  2010-12-01|2010-12-01 08:26:00|01/12/2010 08:26:00|12-01-2010 08:26:00|1291184760|\n",
      "|   536365|   84029G|KNITTED UNION FLA...|       6|1.12.2010 08:26|     3,39|     17850|United Kingdom|  2010-12-01|2010-12-01 08:26:00|01/12/2010 08:26:00|12-01-2010 08:26:00|1291184760|\n",
      "|   536365|   84029E|RED WOOLLY HOTTIE...|       6|1.12.2010 08:26|     3,39|     17850|United Kingdom|  2010-12-01|2010-12-01 08:26:00|01/12/2010 08:26:00|12-01-2010 08:26:00|1291184760|\n",
      "|   536365|    22752|SET 7 BABUSHKA NE...|       2|1.12.2010 08:26|     7,65|     17850|United Kingdom|  2010-12-01|2010-12-01 08:26:00|01/12/2010 08:26:00|12-01-2010 08:26:00|1291184760|\n",
      "|   536365|    21730|GLASS STAR FROSTE...|       6|1.12.2010 08:26|     4,25|     17850|United Kingdom|  2010-12-01|2010-12-01 08:26:00|01/12/2010 08:26:00|12-01-2010 08:26:00|1291184760|\n",
      "|   536366|    22633|HAND WARMER UNION...|       6|1.12.2010 08:28|     1,85|     17850|United Kingdom|  2010-12-01|2010-12-01 08:28:00|01/12/2010 08:28:00|12-01-2010 08:28:00|1291184880|\n",
      "|   536366|    22632|HAND WARMER RED P...|       6|1.12.2010 08:28|     1,85|     17850|United Kingdom|  2010-12-01|2010-12-01 08:28:00|01/12/2010 08:28:00|12-01-2010 08:28:00|1291184880|\n",
      "|   536367|    84879|ASSORTED COLOUR B...|      32|1.12.2010 08:34|     1,69|     13047|United Kingdom|  2010-12-01|2010-12-01 08:34:00|01/12/2010 08:34:00|12-01-2010 08:34:00|1291185240|\n",
      "+---------+---------+--------------------+--------+---------------+---------+----------+--------------+------------+-------------------+-------------------+-------------------+----------+\n",
      "only showing top 10 rows\n",
      "\n"
     ]
    }
   ],
   "source": [
    "format_tr = \"dd/MM/yyyy HH:mm:ss\"\n",
    "format_eng = \"MM-dd-yyyy HH:mm:ss\"\n",
    "\n",
    "df3 = df2 \\\n",
    ".withColumn(\"TSTR\", F.date_format(F.col(\"standart_ts\"), format_tr)) \\\n",
    ".withColumn(\"TSENG\", F.date_format(F.col(\"standart_ts\"), format_eng)) \\\n",
    ".withColumn(\"unix_time\", F.unix_timestamp(F.col(\"standart_ts\"))) \\\n",
    "\n",
    "df3.show(10)"
   ]
  },
  {
   "cell_type": "code",
   "execution_count": 20,
   "id": "e42c6473",
   "metadata": {},
   "outputs": [
    {
     "name": "stdout",
     "output_type": "stream",
     "text": [
      "+---------+---------+--------------------+--------+---------------+---------+----------+--------------+------------+-------------------+----------+----+----+\n",
      "|InvoiceNo|StockCode|         Description|Quantity|    InvoiceDate|UnitPrice|CustomerID|       Country|normal_tarih|        standart_ts|   bir_yil| yil|fark|\n",
      "+---------+---------+--------------------+--------+---------------+---------+----------+--------------+------------+-------------------+----------+----+----+\n",
      "|   536365|   85123A|WHITE HANGING HEA...|       6|1.12.2010 08:26|     2,55|     17850|United Kingdom|  2010-12-01|2010-12-01 08:26:00|2011-12-01|2010| 365|\n",
      "|   536365|    71053| WHITE METAL LANTERN|       6|1.12.2010 08:26|     3,39|     17850|United Kingdom|  2010-12-01|2010-12-01 08:26:00|2011-12-01|2010| 365|\n",
      "|   536365|   84406B|CREAM CUPID HEART...|       8|1.12.2010 08:26|     2,75|     17850|United Kingdom|  2010-12-01|2010-12-01 08:26:00|2011-12-01|2010| 365|\n",
      "|   536365|   84029G|KNITTED UNION FLA...|       6|1.12.2010 08:26|     3,39|     17850|United Kingdom|  2010-12-01|2010-12-01 08:26:00|2011-12-01|2010| 365|\n",
      "|   536365|   84029E|RED WOOLLY HOTTIE...|       6|1.12.2010 08:26|     3,39|     17850|United Kingdom|  2010-12-01|2010-12-01 08:26:00|2011-12-01|2010| 365|\n",
      "|   536365|    22752|SET 7 BABUSHKA NE...|       2|1.12.2010 08:26|     7,65|     17850|United Kingdom|  2010-12-01|2010-12-01 08:26:00|2011-12-01|2010| 365|\n",
      "|   536365|    21730|GLASS STAR FROSTE...|       6|1.12.2010 08:26|     4,25|     17850|United Kingdom|  2010-12-01|2010-12-01 08:26:00|2011-12-01|2010| 365|\n",
      "|   536366|    22633|HAND WARMER UNION...|       6|1.12.2010 08:28|     1,85|     17850|United Kingdom|  2010-12-01|2010-12-01 08:28:00|2011-12-01|2010| 365|\n",
      "|   536366|    22632|HAND WARMER RED P...|       6|1.12.2010 08:28|     1,85|     17850|United Kingdom|  2010-12-01|2010-12-01 08:28:00|2011-12-01|2010| 365|\n",
      "|   536367|    84879|ASSORTED COLOUR B...|      32|1.12.2010 08:34|     1,69|     13047|United Kingdom|  2010-12-01|2010-12-01 08:34:00|2011-12-01|2010| 365|\n",
      "+---------+---------+--------------------+--------+---------------+---------+----------+--------------+------------+-------------------+----------+----+----+\n",
      "only showing top 10 rows\n",
      "\n"
     ]
    }
   ],
   "source": [
    "df4 = df2 \\\n",
    ".withColumn(\"bir_yil\", F.date_add(F.col(\"standart_ts\"), 365)) \\\n",
    ".withColumn(\"yil\", F.year(F.col(\"standart_ts\"))) \\\n",
    ".withColumn(\"fark\", F.datediff(F.col(\"bir_yil\"), F.col(\"standart_ts\")))\n",
    "\n",
    "df4.show(10)"
   ]
  },
  {
   "cell_type": "code",
   "execution_count": null,
   "id": "d73b6721",
   "metadata": {},
   "outputs": [],
   "source": []
  }
 ],
 "metadata": {
  "kernelspec": {
   "display_name": "Python 3 (ipykernel)",
   "language": "python",
   "name": "python3"
  },
  "language_info": {
   "codemirror_mode": {
    "name": "ipython",
    "version": 3
   },
   "file_extension": ".py",
   "mimetype": "text/x-python",
   "name": "python",
   "nbconvert_exporter": "python",
   "pygments_lexer": "ipython3",
   "version": "3.10.6"
  }
 },
 "nbformat": 4,
 "nbformat_minor": 5
}
