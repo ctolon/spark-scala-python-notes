{
 "cells": [
  {
   "cell_type": "code",
   "execution_count": null,
   "id": "652409ca",
   "metadata": {},
   "outputs": [],
   "source": []
  },
  {
   "cell_type": "code",
   "execution_count": 6,
   "id": "bb523e51",
   "metadata": {},
   "outputs": [],
   "source": [
    "from pyspark.sql import SparkSession\n",
    "import os"
   ]
  },
  {
   "cell_type": "code",
   "execution_count": 4,
   "id": "ea8380e9",
   "metadata": {},
   "outputs": [],
   "source": [
    "spark = SparkSession.builder \\\n",
    ".appName(\"SQL\") \\\n",
    ".config(\"spark.driver.memory\", \"2g\") \\\n",
    ".config(\"spark.executor.memory\", \"4g\") \\\n",
    ".master(\"local[*]\") \\\n",
    ".getOrCreate()"
   ]
  },
  {
   "cell_type": "code",
   "execution_count": 5,
   "id": "937213b1",
   "metadata": {},
   "outputs": [],
   "source": [
    "sc = spark.sparkContext\n",
    "sc.setLogLevel(\"ERROR\")"
   ]
  },
  {
   "cell_type": "code",
   "execution_count": 13,
   "id": "8396a803",
   "metadata": {},
   "outputs": [],
   "source": [
    "retailDF = spark.read \\\n",
    ".option(\"header\", \"True\") \\\n",
    ".option(\"inferSchema\", \"True\") \\\n",
    ".option(\"sep\", \";\") \\\n",
    ".csv(f\"{os.getcwd()}/OnlineRetail.csv\")"
   ]
  },
  {
   "cell_type": "code",
   "execution_count": 14,
   "id": "cd5eba59",
   "metadata": {},
   "outputs": [
    {
     "data": {
      "text/plain": [
       "DataFrame[InvoiceNo: string, StockCode: string, Description: string, Quantity: int, InvoiceDate: string, UnitPrice: string, CustomerID: int, Country: string]"
      ]
     },
     "execution_count": 14,
     "metadata": {},
     "output_type": "execute_result"
    }
   ],
   "source": [
    "retailDF.cache()"
   ]
  },
  {
   "cell_type": "code",
   "execution_count": 15,
   "id": "f617568e",
   "metadata": {},
   "outputs": [],
   "source": [
    "retailDF.createOrReplaceTempView(\"table\")"
   ]
  },
  {
   "cell_type": "code",
   "execution_count": 17,
   "id": "b11c9e2e",
   "metadata": {},
   "outputs": [
    {
     "name": "stdout",
     "output_type": "stream",
     "text": [
      "+---------------+---------+\n",
      "|        Country|UnitPrice|\n",
      "+---------------+---------+\n",
      "| United Kingdom|  94911.0|\n",
      "|           EIRE|   9423.0|\n",
      "|        Germany|   7930.0|\n",
      "|         France|   6288.0|\n",
      "|          Spain|   2927.0|\n",
      "|        Finland|   1578.0|\n",
      "|        Belgium|   1503.0|\n",
      "|         Norway|   1451.0|\n",
      "|    Switzerland|   1267.0|\n",
      "|         Sweden|    921.0|\n",
      "|         Cyprus|    890.0|\n",
      "|    Netherlands|    874.0|\n",
      "|          Italy|    823.0|\n",
      "|       Portugal|    817.0|\n",
      "|Channel Islands|    736.0|\n",
      "|        Austria|    548.0|\n",
      "|      Australia|    350.0|\n",
      "|        Denmark|    246.0|\n",
      "|          Malta|    210.0|\n",
      "|         Poland|    200.0|\n",
      "+---------------+---------+\n",
      "only showing top 20 rows\n",
      "\n"
     ]
    }
   ],
   "source": [
    "spark.sql(\"\"\"\n",
    "\n",
    "SELECT Country, SUM(UnitPrice) UnitPrice\n",
    "from table\n",
    "GROUP BY Country\n",
    "ORDER BY UnitPrice DESC\n",
    "\n",
    "\"\"\").show(20)"
   ]
  }
 ],
 "metadata": {
  "kernelspec": {
   "display_name": "Python 3 (ipykernel)",
   "language": "python",
   "name": "python3"
  },
  "language_info": {
   "codemirror_mode": {
    "name": "ipython",
    "version": 3
   },
   "file_extension": ".py",
   "mimetype": "text/x-python",
   "name": "python",
   "nbconvert_exporter": "python",
   "pygments_lexer": "ipython3",
   "version": "3.10.6"
  }
 },
 "nbformat": 4,
 "nbformat_minor": 5
}
