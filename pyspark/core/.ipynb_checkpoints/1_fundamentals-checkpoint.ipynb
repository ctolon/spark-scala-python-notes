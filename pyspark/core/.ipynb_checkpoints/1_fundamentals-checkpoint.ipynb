{
 "cells": [
  {
   "cell_type": "markdown",
   "id": "f7051d19",
   "metadata": {},
   "source": [
    "### Spark Init"
   ]
  },
  {
   "cell_type": "code",
   "execution_count": 25,
   "id": "2acff3ed",
   "metadata": {},
   "outputs": [],
   "source": [
    "import findspark\n",
    "findspark.init()"
   ]
  },
  {
   "cell_type": "markdown",
   "id": "72eb97e0",
   "metadata": {},
   "source": [
    "## Create a Spark Context Method - 1: Using Only Session\n"
   ]
  },
  {
   "cell_type": "code",
   "execution_count": 26,
   "id": "f5969080",
   "metadata": {},
   "outputs": [],
   "source": [
    "# All Libraries we need\n",
    "from pyspark.sql import SparkSession\n",
    "from pyspark.conf import SparkConf\n"
   ]
  },
  {
   "cell_type": "markdown",
   "id": "eb40cbab",
   "metadata": {},
   "source": [
    "### Step 1: Create an Spark Session"
   ]
  },
  {
   "cell_type": "code",
   "execution_count": 27,
   "id": "8b25949d",
   "metadata": {},
   "outputs": [
    {
     "name": "stdout",
     "output_type": "stream",
     "text": [
      "22/12/30 01:00:25 WARN Utils: Service 'SparkUI' could not bind on port 4040. Attempting port 4041.\n",
      "22/12/30 01:00:25 WARN Utils: Service 'SparkUI' could not bind on port 4041. Attempting port 4042.\n",
      "22/12/30 01:00:25 WARN Utils: Service 'SparkUI' could not bind on port 4042. Attempting port 4043.\n"
     ]
    }
   ],
   "source": [
    "pyspark = SparkSession.builder \\\n",
    ".master(\"local[4]\") \\\n",
    ".appName(\"Create a RDD\") \\\n",
    ".config(\"spark.executor.memory\", \"4g\") \\\n",
    ".config(\"spark.driver.memory\", \"2g\") \\\n",
    ".getOrCreate()"
   ]
  },
  {
   "cell_type": "raw",
   "id": "548a88dd",
   "metadata": {},
   "source": [
    "Params and Methods for Session Building\n",
    "\n",
    "SparkSession.builder --> Builder method\n",
    "master(\"local[4]\") --> How many cores used in local[<core>] (* for all, 4 for 4 core etc.)\n",
    "appName(\"Create a RDD\") --> application name\n",
    "config(\"spark.executor.memory\", \"4g\") --> Memory of Workers\n",
    "config(\"spark.driver.memory\", \"2g\") --> Our target host for send data and retrieving results\n",
    "getOrCreate() --> This method allows to if session created before, gets session else creates new session"
   ]
  },
  {
   "cell_type": "markdown",
   "id": "6703bbae",
   "metadata": {},
   "source": [
    "### Step 2: Create spark context object for create RDDs (for connection to computing cluster)"
   ]
  },
  {
   "cell_type": "code",
   "execution_count": 28,
   "id": "0db0a8b9",
   "metadata": {},
   "outputs": [],
   "source": [
    "sc = pyspark.sparkContext"
   ]
  },
  {
   "cell_type": "markdown",
   "id": "9bdc780a",
   "metadata": {},
   "source": [
    "#### Create an RDD for using example"
   ]
  },
  {
   "cell_type": "code",
   "execution_count": 29,
   "id": "23781d5a",
   "metadata": {},
   "outputs": [],
   "source": [
    "rdd1 = sc.parallelize([(\"Ahmet\", 25),(\"Berk\", 18),(\"Mehmet\", 28),(\"Batuhan\", 20)])"
   ]
  },
  {
   "cell_type": "markdown",
   "id": "374c5150",
   "metadata": {},
   "source": [
    "#### Check RDD with action"
   ]
  },
  {
   "cell_type": "code",
   "execution_count": 30,
   "id": "3d734b85",
   "metadata": {},
   "outputs": [
    {
     "data": {
      "text/plain": [
       "[('Ahmet', 25), ('Berk', 18)]"
      ]
     },
     "execution_count": 30,
     "metadata": {},
     "output_type": "execute_result"
    }
   ],
   "source": [
    "rdd1.take(2)"
   ]
  },
  {
   "cell_type": "markdown",
   "id": "d42be6bb",
   "metadata": {},
   "source": [
    "#### We can stop spark session with stop method"
   ]
  },
  {
   "cell_type": "code",
   "execution_count": 31,
   "id": "40770cbb",
   "metadata": {},
   "outputs": [],
   "source": [
    "sc.stop()"
   ]
  },
  {
   "cell_type": "markdown",
   "id": "e9e87b88",
   "metadata": {},
   "source": [
    "## Create a Spark Context Method - 2: Using Session and Conf"
   ]
  },
  {
   "cell_type": "code",
   "execution_count": 32,
   "id": "efeba66d",
   "metadata": {},
   "outputs": [],
   "source": [
    "### Step 1: Create an Spark Configuration"
   ]
  },
  {
   "cell_type": "code",
   "execution_count": 34,
   "id": "dc44badb",
   "metadata": {},
   "outputs": [],
   "source": [
    "conf = SparkConf() \\\n",
    ".setMaster(\"local[4]\") \\\n",
    ".setAppName(\"Create a RDD\") \\\n",
    ".setExecutorEnv(\"spark.executor.memory\", \"4g\") \\\n",
    ".setExecutorEnv(\"spark.driver.memory\", \"2g\")"
   ]
  },
  {
   "cell_type": "markdown",
   "id": "62702e74",
   "metadata": {},
   "source": [
    "### Step 2: Create an Spark Session"
   ]
  },
  {
   "cell_type": "code",
   "execution_count": null,
   "id": "477f3da3",
   "metadata": {},
   "outputs": [],
   "source": []
  }
 ],
 "metadata": {
  "kernelspec": {
   "display_name": "Python 3 (ipykernel)",
   "language": "python",
   "name": "python3"
  },
  "language_info": {
   "codemirror_mode": {
    "name": "ipython",
    "version": 3
   },
   "file_extension": ".py",
   "mimetype": "text/x-python",
   "name": "python",
   "nbconvert_exporter": "python",
   "pygments_lexer": "ipython3",
   "version": "3.10.6"
  }
 },
 "nbformat": 4,
 "nbformat_minor": 5
}
